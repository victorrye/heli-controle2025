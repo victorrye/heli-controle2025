{
 "cells": [
  {
   "cell_type": "markdown",
   "metadata": {},
   "source": [
    "# Helicóptero de Bancada para disciplina de Controle e Aplicações"
   ]
  },
  {
   "cell_type": "markdown",
   "metadata": {},
   "source": [
    "## Preparação"
   ]
  },
  {
   "cell_type": "code",
   "execution_count": 39,
   "metadata": {},
   "outputs": [],
   "source": [
    "# Bibliotecas\n",
    "import numpy as np\n",
    "import sympy as sp\n",
    "import pandas as pd\n",
    "import matplotlib.pyplot as plt\n",
    "import scipy.linalg as la\n",
    "import ipywidgets as widgets\n",
    "from ipywidgets import interactive\n",
    "from scipy.optimize import minimize\n",
    "from IPython.display import Latex\n",
    "from tbcontrol.symbolic import routh\n",
    "from scipy.integrate import solve_ivp\n",
    "from scipy.signal import place_poles\n",
    "from scipy.signal import find_peaks\n",
    "\n",
    "import control as ct\n",
    "s = ct.tf('s')\n",
    "\n",
    "from seaborn import color_palette\n",
    "colors = color_palette()"
   ]
  },
  {
   "cell_type": "code",
   "execution_count": 40,
   "metadata": {},
   "outputs": [],
   "source": [
    "# Definição dos símbolos\n",
    "m_c, m_m, a, l, L, K, g = sp.symbols('m_c m_m a l L K g')\n",
    "epsilon, alpha, theta = sp.symbols('epsilon alpha theta')\n",
    "d_epsilon, d_alpha, d_theta = sp.symbols('d_epsilon d_alpha d_theta')\n",
    "dd_epsilon, dd_alpha, dd_theta = sp.symbols('dd_epsilon dd_alpha dd_theta')\n",
    "V_D, V_E = sp.symbols('V_D V_E')\n",
    "M_P_x, M_P_y, M_P_z = sp.symbols('M_P_x M_P_y M_P_z')\n",
    "rho, C_D, U, S, beta = sp.symbols('rho C_D U S beta')\n",
    "x1, x2, x3, x4, x5, x6 = sp.symbols('x1 x2 x3 x4 x5 x6') \n",
    "u1, u2 = sp.symbols('u1 u2')                              \n",
    "w1, w2, w3 = sp.symbols('w1 w2 w3')                        \n",
    "epsilon_linha, alpha_linha, theta_linha = sp.symbols('epsilon_linha alpha_linha theta_linha')\n",
    "s = sp.symbols('s')\n",
    "\n",
    "I = sp.eye(6)"
   ]
  },
  {
   "cell_type": "code",
   "execution_count": 41,
   "metadata": {},
   "outputs": [],
   "source": [
    "# Parametros\n",
    "params = {\n",
    "    m_c: 1.565,\n",
    "    m_m: 0.355,\n",
    "    l: 0.45,\n",
    "    L: 0.64,\n",
    "    K: 0.5839,\n",
    "    g: 9.81,\n",
    "    a: 0.275,\n",
    "    rho: 1.225,\n",
    "    C_D: 1,\n",
    "    S: 0.00196,\n",
    "    beta: 10*np.pi/180,\n",
    "    U: 5,\n",
    "    #epsilon_linha: 4*np.pi/180,\n",
    "    #alpha_linha: 1*np.pi/180,\n",
    "    theta_linha: 2*np.pi/180\n",
    "}"
   ]
  },
  {
   "cell_type": "code",
   "execution_count": 42,
   "metadata": {},
   "outputs": [],
   "source": [
    "# Paleta de cores\n",
    "cp = {\n",
    "    'red': (1.0, 0.349, 0.369, 1.0),\n",
    "    'green': (0.541, 0.788, 0.149, 1.0),\n",
    "    'blue': (0.098, 0.510, 0.769, 1.0),\n",
    "    'lred': (1.0, 0.588, 0.6, 1.0),\n",
    "    'lgreen': (0.722, 0.894, 0.443, 1.0),\n",
    "    'lblue': (0.369, 0.706, 0.918, 1.0),\n",
    "    'dred': (0.839,0.0,0.027),\n",
    "    'dgreen': (0.341,0.494,0.094),\n",
    "    'dblue': (0.063,0.318,0.475),\n",
    "    'orange': (1.0, 0.506, 0.227, 1.0),\n",
    "    'yellow': (1.0, 0.792, 0.227, 1.0),\n",
    "    'pink': (1.0, 0.349, 0.611, 1.0),\n",
    "    'purple': (0.416, 0.298, 0.576, 1.0),\n",
    "    'turquoise': (0.098, 0.761, 0.769, 1.0),\n",
    "    'brown': (0.576, 0.380, 0.298, 1.0)\n",
    "}"
   ]
  },
  {
   "cell_type": "markdown",
   "metadata": {},
   "source": [
    "## Modelagem Matemática"
   ]
  },
  {
   "cell_type": "code",
   "execution_count": 43,
   "metadata": {},
   "outputs": [],
   "source": [
    "# Vetores unitários\n",
    "i = sp.Matrix([1, 0, 0])\n",
    "j = sp.Matrix([0, 1, 0])\n",
    "k = sp.Matrix([0, 0, 1])\n",
    "\n",
    "# Matrizes de rotação\n",
    "R_x = sp.Matrix([\n",
    "    [1, 0, 0],\n",
    "    [0, sp.cos(epsilon), -sp.sin(epsilon)],\n",
    "    [0, sp.sin(epsilon), sp.cos(epsilon)]\n",
    "])\n",
    "\n",
    "R_y = sp.Matrix([\n",
    "    [sp.cos(alpha), 0, sp.sin(alpha)],\n",
    "    [0, 1, 0],\n",
    "    [-sp.sin(alpha), 0, sp.cos(alpha)]\n",
    "])\n",
    "\n",
    "R_z = sp.Matrix([\n",
    "    [sp.cos(theta), -sp.sin(theta), 0],\n",
    "    [sp.sin(theta), sp.cos(theta), 0],\n",
    "    [0, 0, 1]\n",
    "])\n",
    "\n",
    "R = R_x * R_y * R_z\n",
    "\n",
    "# Vetores de posição\n",
    "rc = -l * j\n",
    "r = L * j\n",
    "rd = r + a * i\n",
    "re = r - a * i\n",
    "\n",
    "# Momentos de inércia\n",
    "Ixx = m_c*l**2 + 2*m_m*L**2\n",
    "Iyy = 2*m_m*a**2\n",
    "Izz = m_c*l**2 + 2*m_m*(a**2 + L**2)\n",
    "J = sp.diag(Ixx, Iyy, Izz)\n",
    "\n",
    "M_P = M_P_x*i + M_P_y*j + M_P_z*k\n",
    "\n",
    "# Velocidade e aceleração angular\n",
    "omega = d_epsilon*i + d_alpha*j + d_theta*k\n",
    "d_omega = dd_epsilon*i + dd_alpha*j + dd_theta*k\n",
    "\n",
    "# Pesos\n",
    "Pc = R * (m_c * g * k)\n",
    "Pm = R * (m_m * g * k)\n",
    "\n",
    "# Equilíbrio de forças\n",
    "Fc = Pc\n",
    "Fd = Pm + K * V_D * k\n",
    "Fe = Pm + K * V_E * k\n",
    "\n",
    "# Arrasto\n",
    "U_vet = R * (U * (sp.cos(beta) * i + sp.sin(beta) * j))\n",
    "v_rel = U_vet - omega.cross(r)\n",
    "modulo_v_rel2 = v_rel.dot(v_rel)\n",
    "direcao_v_rel = v_rel / sp.sqrt(modulo_v_rel2)\n",
    "Fa = 0.5 * rho * C_D * modulo_v_rel2 * S * direcao_v_rel\n",
    "\n",
    "# Soma dos momentos\n",
    "somatorio_momentos = rc.cross(Fc) + re.cross(Fe) + rd.cross(Fd) + r.cross(Fa) + M_P\n",
    "\n",
    "# Resolução das EDOs\n",
    "eqs = somatorio_momentos - (J * d_omega + omega.cross(J * omega))\n",
    "sol = sp.solve(eqs, (dd_epsilon, dd_alpha, dd_theta), dict=True)[0]\n",
    "\n",
    "d_d_epsilon = sp.simplify(sol[dd_epsilon])\n",
    "d_d_alpha = sp.simplify(sol[dd_alpha])\n",
    "d_d_theta = sp.simplify(sol[dd_theta])"
   ]
  },
  {
   "cell_type": "markdown",
   "metadata": {},
   "source": [
    "### EDOs do sistema"
   ]
  },
  {
   "cell_type": "code",
   "execution_count": 44,
   "metadata": {},
   "outputs": [
    {
     "data": {
      "text/latex": [
       "$\\ddot{\\varepsilon} = \\frac{- 1.0 C_{D} L^{2} S d_{\\epsilon} \\rho \\sqrt{1.0 L^{2} d_{\\epsilon}^{2} + 1.0 L^{2} d_{\\theta}^{2} + 2.0 L U d_{\\epsilon} \\sin{\\left(\\alpha \\right)} \\cos{\\left(\\epsilon \\right)} \\cos{\\left(\\beta + \\theta \\right)} - 2.0 L U d_{\\epsilon} \\sin{\\left(\\epsilon \\right)} \\sin{\\left(\\beta + \\theta \\right)} + 2.0 L U d_{\\theta} \\cos{\\left(\\alpha \\right)} \\cos{\\left(\\beta + \\theta \\right)} + 1.0 U^{2}} - 1.0 C_{D} L S U \\rho \\sqrt{1.0 L^{2} d_{\\epsilon}^{2} + 1.0 L^{2} d_{\\theta}^{2} + 2.0 L U d_{\\epsilon} \\sin{\\left(\\alpha \\right)} \\cos{\\left(\\epsilon \\right)} \\cos{\\left(\\beta + \\theta \\right)} - 2.0 L U d_{\\epsilon} \\sin{\\left(\\epsilon \\right)} \\sin{\\left(\\beta + \\theta \\right)} + 2.0 L U d_{\\theta} \\cos{\\left(\\alpha \\right)} \\cos{\\left(\\beta + \\theta \\right)} + 1.0 U^{2}} \\sin{\\left(\\alpha \\right)} \\cos{\\left(\\epsilon \\right)} \\cos{\\left(\\beta + \\theta \\right)} + 1.0 C_{D} L S U \\rho \\sqrt{1.0 L^{2} d_{\\epsilon}^{2} + 1.0 L^{2} d_{\\theta}^{2} + 2.0 L U d_{\\epsilon} \\sin{\\left(\\alpha \\right)} \\cos{\\left(\\epsilon \\right)} \\cos{\\left(\\beta + \\theta \\right)} - 2.0 L U d_{\\epsilon} \\sin{\\left(\\epsilon \\right)} \\sin{\\left(\\beta + \\theta \\right)} + 2.0 L U d_{\\theta} \\cos{\\left(\\alpha \\right)} \\cos{\\left(\\beta + \\theta \\right)} + 1.0 U^{2}} \\sin{\\left(\\epsilon \\right)} \\sin{\\left(\\beta + \\theta \\right)} + 2.0 K L V_{D} + 2.0 K L V_{E} - 4.0 L^{2} d_{\\alpha} d_{\\theta} m_{m} + 4.0 L g m_{m} \\cos{\\left(\\alpha \\right)} \\cos{\\left(\\epsilon \\right)} + 2.0 M_{P x} - 2.0 d_{\\alpha} d_{\\theta} l^{2} m_{c} - 2.0 g l m_{c} \\cos{\\left(\\alpha \\right)} \\cos{\\left(\\epsilon \\right)}}{4.0 L^{2} m_{m} + 2.0 l^{2} m_{c}}$"
      ],
      "text/plain": [
       "<IPython.core.display.Latex object>"
      ]
     },
     "metadata": {},
     "output_type": "display_data"
    },
    {
     "data": {
      "text/latex": [
       "$\\ddot{\\alpha} = - \\frac{0.5 K V_{D}}{a m_{m}} + \\frac{0.5 K V_{E}}{a m_{m}} + \\frac{0.5 M_{P y}}{a^{2} m_{m}} + 1.0 d_{\\epsilon} d_{\\theta}$"
      ],
      "text/plain": [
       "<IPython.core.display.Latex object>"
      ]
     },
     "metadata": {},
     "output_type": "display_data"
    },
    {
     "data": {
      "text/latex": [
       "$\\ddot{\\theta} = \\frac{- 1.0 C_{D} L^{2} S d_{\\epsilon} \\rho \\sqrt{1.0 L^{2} d_{\\epsilon}^{2} + 1.0 L^{2} d_{\\theta}^{2} + 2.0 L U d_{\\epsilon} \\sin{\\left(\\alpha \\right)} \\cos{\\left(\\epsilon \\right)} \\cos{\\left(\\beta + \\theta \\right)} - 2.0 L U d_{\\epsilon} \\sin{\\left(\\epsilon \\right)} \\sin{\\left(\\beta + \\theta \\right)} + 2.0 L U d_{\\theta} \\cos{\\left(\\alpha \\right)} \\cos{\\left(\\beta + \\theta \\right)} + 1.0 U^{2}} - 1.0 C_{D} L S U \\rho \\sqrt{1.0 L^{2} d_{\\epsilon}^{2} + 1.0 L^{2} d_{\\theta}^{2} + 2.0 L U d_{\\epsilon} \\sin{\\left(\\alpha \\right)} \\cos{\\left(\\epsilon \\right)} \\cos{\\left(\\beta + \\theta \\right)} - 2.0 L U d_{\\epsilon} \\sin{\\left(\\epsilon \\right)} \\sin{\\left(\\beta + \\theta \\right)} + 2.0 L U d_{\\theta} \\cos{\\left(\\alpha \\right)} \\cos{\\left(\\beta + \\theta \\right)} + 1.0 U^{2}} \\sin{\\left(\\alpha \\right)} \\cos{\\left(\\epsilon \\right)} \\cos{\\left(\\beta + \\theta \\right)} + 1.0 C_{D} L S U \\rho \\sqrt{1.0 L^{2} d_{\\epsilon}^{2} + 1.0 L^{2} d_{\\theta}^{2} + 2.0 L U d_{\\epsilon} \\sin{\\left(\\alpha \\right)} \\cos{\\left(\\epsilon \\right)} \\cos{\\left(\\beta + \\theta \\right)} - 2.0 L U d_{\\epsilon} \\sin{\\left(\\epsilon \\right)} \\sin{\\left(\\beta + \\theta \\right)} + 2.0 L U d_{\\theta} \\cos{\\left(\\alpha \\right)} \\cos{\\left(\\beta + \\theta \\right)} + 1.0 U^{2}} \\sin{\\left(\\epsilon \\right)} \\sin{\\left(\\beta + \\theta \\right)} + 2.0 K L V_{D} + 2.0 K L V_{E} - 4.0 L^{2} d_{\\alpha} d_{\\theta} m_{m} + 4.0 L g m_{m} \\cos{\\left(\\alpha \\right)} \\cos{\\left(\\epsilon \\right)} + 2.0 M_{P x} - 2.0 d_{\\alpha} d_{\\theta} l^{2} m_{c} - 2.0 g l m_{c} \\cos{\\left(\\alpha \\right)} \\cos{\\left(\\epsilon \\right)}}{4.0 L^{2} m_{m} + 2.0 l^{2} m_{c}}$"
      ],
      "text/plain": [
       "<IPython.core.display.Latex object>"
      ]
     },
     "metadata": {},
     "output_type": "display_data"
    }
   ],
   "source": [
    "display(Latex(f'$\\\\ddot{{\\\\varepsilon}} = {sp.latex(d_d_epsilon)}$'))\n",
    "display(Latex(f'$\\\\ddot{{\\\\alpha}} = {sp.latex(d_d_alpha)}$'))\n",
    "display(Latex(f'$\\\\ddot{{\\\\theta}} = {sp.latex(d_d_epsilon)}$'))"
   ]
  },
  {
   "cell_type": "code",
   "execution_count": 45,
   "metadata": {},
   "outputs": [],
   "source": [
    "# Substituições para forma de espaço de estados\n",
    "d_x4 = d_d_epsilon.subs([\n",
    "    (epsilon, x1), (alpha, x2), (theta, x3),\n",
    "    (d_epsilon, x4), (d_alpha, x5), (d_theta, x6),\n",
    "    (V_D, u1), (V_E, u2),\n",
    "    (M_P_x, w1), (M_P_y, w2), (M_P_z, w3)\n",
    "])\n",
    "\n",
    "d_x5 = d_d_alpha.subs([\n",
    "    (epsilon, x1), (alpha, x2), (theta, x3),\n",
    "    (d_epsilon, x4), (d_alpha, x5), (d_theta, x6),\n",
    "    (V_D, u1), (V_E, u2),\n",
    "    (M_P_x, w1), (M_P_y, w2), (M_P_z, w3)\n",
    "])\n",
    "\n",
    "d_x6 = d_d_theta.subs([\n",
    "    (epsilon, x1), (alpha, x2), (theta, x3),\n",
    "    (d_epsilon, x4), (d_alpha, x5), (d_theta, x6),\n",
    "    (V_D, u1), (V_E, u2),\n",
    "    (M_P_x, w1), (M_P_y, w2), (M_P_z, w3)\n",
    "])\n",
    "\n",
    "# Vetores de estado e entrada\n",
    "x = sp.Matrix([x1, x2, x3, x4, x5, x6])\n",
    "u = sp.Matrix([u1, u2])\n",
    "w = sp.Matrix([w1, w2, w3])\n",
    "\n",
    "# Equações de estado e saída\n",
    "f = sp.Matrix([x4, x5, x6, d_x4, d_x5, d_x6])\n",
    "h = sp.Matrix([x1, x2, x3])"
   ]
  },
  {
   "cell_type": "markdown",
   "metadata": {},
   "source": [
    "## Ponto de Equilíbrio"
   ]
  },
  {
   "cell_type": "code",
   "execution_count": 46,
   "metadata": {},
   "outputs": [],
   "source": [
    "# Ponto de equilíbrio\n",
    "subs_eq = {\n",
    "    x1: epsilon_linha,\n",
    "    x2: alpha_linha,\n",
    "    x3: theta_linha,\n",
    "    x4: 0,\n",
    "    x5: 0,\n",
    "    x6: 0,\n",
    "    w1: 0,\n",
    "    w2: 0,\n",
    "    w3: 0\n",
    "}\n",
    "\n",
    "ddX_eq = f.subs(subs_eq)\n",
    "sol_eq = sp.solve([\n",
    "    ddX_eq[3].simplify(),  # d_x4 == 0\n",
    "    ddX_eq[4].simplify()   # d_x5 == 0\n",
    "], (u1, u2), dict=True)[0]\n",
    "\n",
    "u1_eq = sp.simplify(sol_eq[u1])\n",
    "u2_eq = sp.simplify(sol_eq[u2])"
   ]
  },
  {
   "cell_type": "code",
   "execution_count": 47,
   "metadata": {},
   "outputs": [
    {
     "data": {
      "text/latex": [
       "$u_{1_{eq}} = \\frac{L \\left(0.25 C_{D} S U \\rho \\sqrt{U^{2}} \\sin{\\left(\\alpha_{linha} \\right)} \\cos{\\left(\\epsilon_{linha} \\right)} \\cos{\\left(\\beta + \\theta_{linha} \\right)} - 0.25 C_{D} S U \\rho \\sqrt{U^{2}} \\sin{\\left(\\epsilon_{linha} \\right)} \\sin{\\left(\\beta + \\theta_{linha} \\right)} - g m_{m} \\cos{\\left(\\alpha_{linha} \\right)} \\cos{\\left(\\epsilon_{linha} \\right)}\\right) + 0.5 g l m_{c} \\cos{\\left(\\alpha_{linha} \\right)} \\cos{\\left(\\epsilon_{linha} \\right)}}{K L}$"
      ],
      "text/plain": [
       "<IPython.core.display.Latex object>"
      ]
     },
     "metadata": {},
     "output_type": "display_data"
    },
    {
     "data": {
      "text/latex": [
       "$u_{2_{eq}} = \\frac{L \\left(0.25 C_{D} S U \\rho \\sqrt{U^{2}} \\sin{\\left(\\alpha_{linha} \\right)} \\cos{\\left(\\epsilon_{linha} \\right)} \\cos{\\left(\\beta + \\theta_{linha} \\right)} - 0.25 C_{D} S U \\rho \\sqrt{U^{2}} \\sin{\\left(\\epsilon_{linha} \\right)} \\sin{\\left(\\beta + \\theta_{linha} \\right)} - g m_{m} \\cos{\\left(\\alpha_{linha} \\right)} \\cos{\\left(\\epsilon_{linha} \\right)}\\right) + 0.5 g l m_{c} \\cos{\\left(\\alpha_{linha} \\right)} \\cos{\\left(\\epsilon_{linha} \\right)}}{K L}$"
      ],
      "text/plain": [
       "<IPython.core.display.Latex object>"
      ]
     },
     "metadata": {},
     "output_type": "display_data"
    }
   ],
   "source": [
    "display(Latex(f'$u_{{1_{{eq}}}} = {sp.latex(u1_eq)}$'))\n",
    "display(Latex(f'$u_{{2_{{eq}}}} = {sp.latex(u2_eq)}$'))"
   ]
  },
  {
   "cell_type": "markdown",
   "metadata": {},
   "source": [
    "## Espaço de Estados Linearizado"
   ]
  },
  {
   "cell_type": "code",
   "execution_count": 48,
   "metadata": {},
   "outputs": [],
   "source": [
    "# Linearizacao\n",
    "A = f.jacobian(x)\n",
    "B = f.jacobian(u)\n",
    "E = f.jacobian(w)\n",
    "C = h.jacobian(x)\n",
    "D = h.jacobian(u)\n",
    "\n",
    "# Substituições completas com entradas e perturbações de equilíbrio\n",
    "subs_all_eq = dict(subs_eq)\n",
    "subs_all_eq[u1] = u1_eq\n",
    "subs_all_eq[u2] = u2_eq\n",
    "\n",
    "# Avaliação dos Jacobianos no ponto de equilíbrio\n",
    "A = A.subs(subs_all_eq)\n",
    "B = B.subs(subs_all_eq)\n",
    "C = C.subs(subs_all_eq)\n",
    "D = D.subs(subs_all_eq)\n",
    "E = E.subs(subs_all_eq)"
   ]
  },
  {
   "cell_type": "code",
   "execution_count": 49,
   "metadata": {},
   "outputs": [
    {
     "data": {
      "text/latex": [
       "$A = \\left[\\begin{matrix}0 & 0 & 0 & 1 & 0 & 0\\\\0 & 0 & 0 & 0 & 1 & 0\\\\0 & 0 & 0 & 0 & 0 & 1\\\\\\frac{1.0 C_{D} L S U \\rho \\sqrt{U^{2}} \\sin{\\left(\\alpha_{linha} \\right)} \\sin{\\left(\\epsilon_{linha} \\right)} \\cos{\\left(\\beta + \\theta_{linha} \\right)} + 1.0 C_{D} L S U \\rho \\sqrt{U^{2}} \\sin{\\left(\\beta + \\theta_{linha} \\right)} \\cos{\\left(\\epsilon_{linha} \\right)} - 4.0 L g m_{m} \\sin{\\left(\\epsilon_{linha} \\right)} \\cos{\\left(\\alpha_{linha} \\right)} + 2.0 g l m_{c} \\sin{\\left(\\epsilon_{linha} \\right)} \\cos{\\left(\\alpha_{linha} \\right)}}{4.0 L^{2} m_{m} + 2.0 l^{2} m_{c}} & \\frac{- 1.0 C_{D} L S U \\rho \\sqrt{U^{2}} \\cos{\\left(\\alpha_{linha} \\right)} \\cos{\\left(\\epsilon_{linha} \\right)} \\cos{\\left(\\beta + \\theta_{linha} \\right)} - 4.0 L g m_{m} \\sin{\\left(\\alpha_{linha} \\right)} \\cos{\\left(\\epsilon_{linha} \\right)} + 2.0 g l m_{c} \\sin{\\left(\\alpha_{linha} \\right)} \\cos{\\left(\\epsilon_{linha} \\right)}}{4.0 L^{2} m_{m} + 2.0 l^{2} m_{c}} & \\frac{1.0 C_{D} L S U \\rho \\sqrt{U^{2}} \\sin{\\left(\\alpha_{linha} \\right)} \\sin{\\left(\\beta + \\theta_{linha} \\right)} \\cos{\\left(\\epsilon_{linha} \\right)} + 1.0 C_{D} L S U \\rho \\sqrt{U^{2}} \\sin{\\left(\\epsilon_{linha} \\right)} \\cos{\\left(\\beta + \\theta_{linha} \\right)}}{4.0 L^{2} m_{m} + 2.0 l^{2} m_{c}} & \\frac{- 1.0 C_{D} L^{2} S \\rho \\sqrt{U^{2}} - \\frac{1.0 C_{D} L S U \\rho \\left(1.0 L U \\sin{\\left(\\alpha_{linha} \\right)} \\cos{\\left(\\epsilon_{linha} \\right)} \\cos{\\left(\\beta + \\theta_{linha} \\right)} - 1.0 L U \\sin{\\left(\\epsilon_{linha} \\right)} \\sin{\\left(\\beta + \\theta_{linha} \\right)}\\right) \\sin{\\left(\\alpha_{linha} \\right)} \\cos{\\left(\\epsilon_{linha} \\right)} \\cos{\\left(\\beta + \\theta_{linha} \\right)}}{\\sqrt{U^{2}}} + \\frac{1.0 C_{D} L S U \\rho \\left(1.0 L U \\sin{\\left(\\alpha_{linha} \\right)} \\cos{\\left(\\epsilon_{linha} \\right)} \\cos{\\left(\\beta + \\theta_{linha} \\right)} - 1.0 L U \\sin{\\left(\\epsilon_{linha} \\right)} \\sin{\\left(\\beta + \\theta_{linha} \\right)}\\right) \\sin{\\left(\\epsilon_{linha} \\right)} \\sin{\\left(\\beta + \\theta_{linha} \\right)}}{\\sqrt{U^{2}}}}{4.0 L^{2} m_{m} + 2.0 l^{2} m_{c}} & 0 & \\frac{- \\frac{1.0 C_{D} L^{2} S U^{2} \\rho \\sin{\\left(\\alpha_{linha} \\right)} \\cos{\\left(\\alpha_{linha} \\right)} \\cos{\\left(\\epsilon_{linha} \\right)} \\cos^{2}{\\left(\\beta + \\theta_{linha} \\right)}}{\\sqrt{U^{2}}} + \\frac{1.0 C_{D} L^{2} S U^{2} \\rho \\sin{\\left(\\epsilon_{linha} \\right)} \\sin{\\left(\\beta + \\theta_{linha} \\right)} \\cos{\\left(\\alpha_{linha} \\right)} \\cos{\\left(\\beta + \\theta_{linha} \\right)}}{\\sqrt{U^{2}}}}{4.0 L^{2} m_{m} + 2.0 l^{2} m_{c}}\\\\0 & 0 & 0 & 0 & 0 & 0\\\\0 & \\frac{1.0 C_{D} L S U \\rho \\sqrt{U^{2}} \\sin{\\left(\\alpha_{linha} \\right)} \\cos{\\left(\\beta + \\theta_{linha} \\right)} - 4.0 L g m_{m} \\cos{\\left(\\alpha_{linha} \\right)} + 2.0 g l m_{c} \\cos{\\left(\\alpha_{linha} \\right)}}{4.0 L^{2} m_{m} + 4.0 a^{2} m_{m} + 2.0 l^{2} m_{c}} & \\frac{1.0 C_{D} L S U \\rho \\sqrt{U^{2}} \\sin{\\left(\\beta + \\theta_{linha} \\right)} \\cos{\\left(\\alpha_{linha} \\right)}}{4.0 L^{2} m_{m} + 4.0 a^{2} m_{m} + 2.0 l^{2} m_{c}} & - \\frac{1.0 C_{D} L S U \\rho \\left(1.0 L U \\sin{\\left(\\alpha_{linha} \\right)} \\cos{\\left(\\epsilon_{linha} \\right)} \\cos{\\left(\\beta + \\theta_{linha} \\right)} - 1.0 L U \\sin{\\left(\\epsilon_{linha} \\right)} \\sin{\\left(\\beta + \\theta_{linha} \\right)}\\right) \\cos{\\left(\\alpha_{linha} \\right)} \\cos{\\left(\\beta + \\theta_{linha} \\right)}}{\\left(4.0 L^{2} m_{m} + 4.0 a^{2} m_{m} + 2.0 l^{2} m_{c}\\right) \\sqrt{U^{2}}} & 0 & \\frac{- \\frac{1.0 C_{D} L^{2} S U^{2} \\rho \\cos^{2}{\\left(\\alpha_{linha} \\right)} \\cos^{2}{\\left(\\beta + \\theta_{linha} \\right)}}{\\sqrt{U^{2}}} - 1.0 C_{D} L^{2} S \\rho \\sqrt{U^{2}}}{4.0 L^{2} m_{m} + 4.0 a^{2} m_{m} + 2.0 l^{2} m_{c}}\\end{matrix}\\right]$"
      ],
      "text/plain": [
       "<IPython.core.display.Latex object>"
      ]
     },
     "metadata": {},
     "output_type": "display_data"
    },
    {
     "data": {
      "text/latex": [
       "$B = \\left[\\begin{matrix}0 & 0\\\\0 & 0\\\\0 & 0\\\\\\frac{2.0 K L}{4.0 L^{2} m_{m} + 2.0 l^{2} m_{c}} & \\frac{2.0 K L}{4.0 L^{2} m_{m} + 2.0 l^{2} m_{c}}\\\\- \\frac{0.5 K}{a m_{m}} & \\frac{0.5 K}{a m_{m}}\\\\0 & 0\\end{matrix}\\right]$"
      ],
      "text/plain": [
       "<IPython.core.display.Latex object>"
      ]
     },
     "metadata": {},
     "output_type": "display_data"
    },
    {
     "data": {
      "text/latex": [
       "$C = \\left[\\begin{matrix}1 & 0 & 0 & 0 & 0 & 0\\\\0 & 1 & 0 & 0 & 0 & 0\\\\0 & 0 & 1 & 0 & 0 & 0\\end{matrix}\\right]$"
      ],
      "text/plain": [
       "<IPython.core.display.Latex object>"
      ]
     },
     "metadata": {},
     "output_type": "display_data"
    },
    {
     "data": {
      "text/latex": [
       "$D = \\left[\\begin{matrix}0 & 0\\\\0 & 0\\\\0 & 0\\end{matrix}\\right]$"
      ],
      "text/plain": [
       "<IPython.core.display.Latex object>"
      ]
     },
     "metadata": {},
     "output_type": "display_data"
    },
    {
     "data": {
      "text/latex": [
       "$E = \\left[\\begin{matrix}0 & 0 & 0\\\\0 & 0 & 0\\\\0 & 0 & 0\\\\\\frac{2.0}{4.0 L^{2} m_{m} + 2.0 l^{2} m_{c}} & 0 & 0\\\\0 & \\frac{0.5}{a^{2} m_{m}} & 0\\\\0 & 0 & \\frac{2.0}{4.0 L^{2} m_{m} + 4.0 a^{2} m_{m} + 2.0 l^{2} m_{c}}\\end{matrix}\\right]$"
      ],
      "text/plain": [
       "<IPython.core.display.Latex object>"
      ]
     },
     "metadata": {},
     "output_type": "display_data"
    }
   ],
   "source": [
    "display(Latex(f'$A = {sp.latex(A)}$'))\n",
    "display(Latex(f'$B = {sp.latex(B)}$'))\n",
    "display(Latex(f'$C = {sp.latex(C)}$'))\n",
    "display(Latex(f'$D = {sp.latex(D)}$'))\n",
    "display(Latex(f'$E = {sp.latex(E)}$'))"
   ]
  },
  {
   "cell_type": "code",
   "execution_count": 50,
   "metadata": {},
   "outputs": [],
   "source": [
    "# Aproximação para pequenos ângulos: sin(a) = a, cos(a)=1, sin(a+b)=a+b e cos(a+b)=1-a*b\n",
    "small_angle_subs = {\n",
    "    sp.sin(epsilon_linha): epsilon_linha,\n",
    "    sp.cos(epsilon_linha): 1,\n",
    "    sp.sin(alpha_linha): alpha_linha,\n",
    "    sp.cos(alpha_linha): 1,\n",
    "    sp.sin(beta + theta_linha): beta + theta_linha,\n",
    "    sp.cos(beta + theta_linha): 1 - beta * theta_linha\n",
    "}\n",
    "\n",
    "A = sp.simplify(A.subs(small_angle_subs))\n",
    "B = sp.simplify(B.subs(small_angle_subs))\n",
    "C = sp.simplify(C.subs(small_angle_subs))\n",
    "D = sp.simplify(D.subs(small_angle_subs))\n",
    "E= sp.simplify(E.subs(small_angle_subs))"
   ]
  },
  {
   "cell_type": "code",
   "execution_count": 51,
   "metadata": {},
   "outputs": [
    {
     "data": {
      "text/latex": [
       "$A = \\left[\\begin{matrix}0 & 0 & 0 & 1 & 0 & 0\\\\0 & 0 & 0 & 0 & 1 & 0\\\\0 & 0 & 0 & 0 & 0 & 1\\\\\\frac{- 1.0 C_{D} L S U \\alpha_{linha} \\epsilon_{linha} \\rho \\left(\\beta \\theta_{linha} - 1\\right) \\sqrt{U^{2}} + 1.0 C_{D} L S U \\rho \\left(\\beta + \\theta_{linha}\\right) \\sqrt{U^{2}} - 4.0 L \\epsilon_{linha} g m_{m} + 2.0 \\epsilon_{linha} g l m_{c}}{4.0 L^{2} m_{m} + 2.0 l^{2} m_{c}} & \\frac{1.0 C_{D} L S U \\rho \\left(\\beta \\theta_{linha} - 1\\right) \\sqrt{U^{2}} - 4.0 L \\alpha_{linha} g m_{m} + 2.0 \\alpha_{linha} g l m_{c}}{4.0 L^{2} m_{m} + 2.0 l^{2} m_{c}} & \\frac{1.0 C_{D} L S U \\rho \\left(\\alpha_{linha} \\left(\\beta + \\theta_{linha}\\right) - \\epsilon_{linha} \\left(\\beta \\theta_{linha} - 1\\right)\\right) \\sqrt{U^{2}}}{4.0 L^{2} m_{m} + 2.0 l^{2} m_{c}} & - \\frac{1.0 C_{D} L^{2} S U^{2} \\rho \\left(\\alpha_{linha} \\left(\\alpha_{linha} \\left(\\beta \\theta_{linha} - 1\\right) + \\epsilon_{linha} \\left(\\beta + \\theta_{linha}\\right)\\right) \\left(\\beta \\theta_{linha} - 1\\right) + \\epsilon_{linha} \\left(\\beta + \\theta_{linha}\\right) \\left(\\alpha_{linha} \\left(\\beta \\theta_{linha} - 1\\right) + \\epsilon_{linha} \\left(\\beta + \\theta_{linha}\\right)\\right) + 1\\right)}{\\left(4.0 L^{2} m_{m} + 2.0 l^{2} m_{c}\\right) \\sqrt{U^{2}}} & 0 & \\frac{1.0 C_{D} L^{2} S U^{2} \\rho \\left(- \\alpha_{linha} \\left(\\beta \\theta_{linha} - 1\\right) - \\epsilon_{linha} \\left(\\beta + \\theta_{linha}\\right)\\right) \\left(\\beta \\theta_{linha} - 1\\right)}{\\left(4.0 L^{2} m_{m} + 2.0 l^{2} m_{c}\\right) \\sqrt{U^{2}}}\\\\0 & 0 & 0 & 0 & 0 & 0\\\\0 & \\frac{- 1.0 C_{D} L S U \\alpha_{linha} \\rho \\left(\\beta \\theta_{linha} - 1\\right) \\sqrt{U^{2}} - 4.0 L g m_{m} + 2.0 g l m_{c}}{4.0 L^{2} m_{m} + 4.0 a^{2} m_{m} + 2.0 l^{2} m_{c}} & \\frac{1.0 C_{D} L S U \\rho \\left(\\beta + \\theta_{linha}\\right) \\sqrt{U^{2}}}{4.0 L^{2} m_{m} + 4.0 a^{2} m_{m} + 2.0 l^{2} m_{c}} & - \\frac{1.0 C_{D} L^{2} S U^{2} \\rho \\left(\\alpha_{linha} \\left(\\beta \\theta_{linha} - 1\\right) + \\epsilon_{linha} \\left(\\beta + \\theta_{linha}\\right)\\right) \\left(\\beta \\theta_{linha} - 1\\right)}{\\left(4.0 L^{2} m_{m} + 4.0 a^{2} m_{m} + 2.0 l^{2} m_{c}\\right) \\sqrt{U^{2}}} & 0 & \\frac{1.0 C_{D} L^{2} S U^{2} \\rho \\left(- \\left(\\beta \\theta_{linha} - 1\\right)^{2} - 1\\right)}{\\left(4.0 L^{2} m_{m} + 4.0 a^{2} m_{m} + 2.0 l^{2} m_{c}\\right) \\sqrt{U^{2}}}\\end{matrix}\\right]$"
      ],
      "text/plain": [
       "<IPython.core.display.Latex object>"
      ]
     },
     "metadata": {},
     "output_type": "display_data"
    },
    {
     "data": {
      "text/latex": [
       "$B = \\left[\\begin{matrix}0 & 0\\\\0 & 0\\\\0 & 0\\\\\\frac{2.0 K L}{4.0 L^{2} m_{m} + 2.0 l^{2} m_{c}} & \\frac{2.0 K L}{4.0 L^{2} m_{m} + 2.0 l^{2} m_{c}}\\\\- \\frac{0.5 K}{a m_{m}} & \\frac{0.5 K}{a m_{m}}\\\\0 & 0\\end{matrix}\\right]$"
      ],
      "text/plain": [
       "<IPython.core.display.Latex object>"
      ]
     },
     "metadata": {},
     "output_type": "display_data"
    },
    {
     "data": {
      "text/latex": [
       "$C = \\left[\\begin{matrix}1 & 0 & 0 & 0 & 0 & 0\\\\0 & 1 & 0 & 0 & 0 & 0\\\\0 & 0 & 1 & 0 & 0 & 0\\end{matrix}\\right]$"
      ],
      "text/plain": [
       "<IPython.core.display.Latex object>"
      ]
     },
     "metadata": {},
     "output_type": "display_data"
    },
    {
     "data": {
      "text/latex": [
       "$D = \\left[\\begin{matrix}0 & 0\\\\0 & 0\\\\0 & 0\\end{matrix}\\right]$"
      ],
      "text/plain": [
       "<IPython.core.display.Latex object>"
      ]
     },
     "metadata": {},
     "output_type": "display_data"
    },
    {
     "data": {
      "text/latex": [
       "$E = \\left[\\begin{matrix}0 & 0 & 0\\\\0 & 0 & 0\\\\0 & 0 & 0\\\\\\frac{2.0}{4.0 L^{2} m_{m} + 2.0 l^{2} m_{c}} & 0 & 0\\\\0 & \\frac{0.5}{a^{2} m_{m}} & 0\\\\0 & 0 & \\frac{2.0}{4.0 L^{2} m_{m} + 4.0 a^{2} m_{m} + 2.0 l^{2} m_{c}}\\end{matrix}\\right]$"
      ],
      "text/plain": [
       "<IPython.core.display.Latex object>"
      ]
     },
     "metadata": {},
     "output_type": "display_data"
    }
   ],
   "source": [
    "display(Latex(f'$A = {sp.latex(A)}$'))\n",
    "display(Latex(f'$B = {sp.latex(B)}$'))\n",
    "display(Latex(f'$C = {sp.latex(C)}$'))\n",
    "display(Latex(f'$D = {sp.latex(D)}$'))\n",
    "display(Latex(f'$E = {sp.latex(E)}$'))"
   ]
  },
  {
   "cell_type": "code",
   "execution_count": 52,
   "metadata": {},
   "outputs": [],
   "source": [
    "# Substitituicao numerica\n",
    "A_num = A.subs(params).evalf()\n",
    "B_num = B.subs(params).evalf()\n",
    "C_num = C.subs(params).evalf()\n",
    "D_num = D.subs(params).evalf()\n",
    "E_num = E.subs(params).evalf()"
   ]
  },
  {
   "cell_type": "markdown",
   "metadata": {},
   "source": [
    "### Ordens do sistema"
   ]
  },
  {
   "cell_type": "code",
   "execution_count": 53,
   "metadata": {},
   "outputs": [
    {
     "name": "stdout",
     "output_type": "stream",
     "text": [
      "n - Ordem do sistema: 6\n",
      "r - Ordem da entrada: 2\n",
      "m - Ordem da saída: 3\n",
      "l - Ordem da perturbação: 3\n"
     ]
    }
   ],
   "source": [
    "n = A_num.shape[0]\n",
    "r = B_num.shape[1]\n",
    "m = C_num.shape[0]\n",
    "l = E_num.shape[1]\n",
    "\n",
    "print(\"n - Ordem do sistema:\", n)\n",
    "print(\"r - Ordem da entrada:\", r)\n",
    "print(\"m - Ordem da saída:\", m)\n",
    "print(\"l - Ordem da perturbação:\", l)"
   ]
  },
  {
   "cell_type": "markdown",
   "metadata": {},
   "source": [
    "## Análise de Estabilidade"
   ]
  },
  {
   "cell_type": "code",
   "execution_count": 54,
   "metadata": {},
   "outputs": [
    {
     "data": {
      "text/latex": [
       "$\\displaystyle \\operatorname{PurePoly}{\\left( 1.0 s^{6} + \\left(0.0039964518169993 \\alpha_{linha}^{2} - 0.00168429111074122 \\alpha_{linha} \\epsilon_{linha} + 0.000177459698979425 \\epsilon_{linha}^{2} + 0.0114347965906679\\right) s^{5} + \\left(1.48555213437681 \\cdot 10^{-5} \\alpha_{linha}^{2} - 0.0314199236077218 \\alpha_{linha} \\epsilon_{linha} + 6.59649225503965 \\cdot 10^{-7} \\epsilon_{linha}^{2} - 4.03309783891985 \\epsilon_{linha} - 0.0126719149803521\\right) s^{4} + \\left(- 3.3881317890172 \\cdot 10^{-21} \\alpha_{linha}^{2} - 0.00011164805242729 \\alpha_{linha} \\epsilon_{linha} - 2.53866384789675 \\cdot 10^{-5} \\epsilon_{linha}^{2} - 0.0298013688584842 \\epsilon_{linha} - 7.35196813385181 \\cdot 10^{-5}\\right) s^{3} + \\left(5.29395592033938 \\cdot 10^{-23} \\alpha_{linha}^{2} \\epsilon_{linha}^{2} + 5.42101086242752 \\cdot 10^{-20} \\alpha_{linha}^{2} \\epsilon_{linha} - 7.94093388050907 \\cdot 10^{-23} \\alpha_{linha}^{2} + 9.92616735063633 \\cdot 10^{-24} \\alpha_{linha} \\epsilon_{linha}^{3} - 1.01643953670516 \\cdot 10^{-20} \\alpha_{linha} \\epsilon_{linha}^{2} + 0.000191064735730922 \\alpha_{linha} \\epsilon_{linha} + 0.0245301790406917 \\epsilon_{linha} + 4.0261793548826 \\cdot 10^{-5}\\right) s^{2}, s, domain=\\mathbb{R}\\left[\\alpha_{linha}, \\epsilon_{linha}\\right] \\right)}$"
      ],
      "text/plain": [
       "PurePoly(1.0*s**6 + (0.0039964518169993*alpha_linha**2 - 0.00168429111074122*alpha_linha*epsilon_linha + 0.000177459698979425*epsilon_linha**2 + 0.0114347965906679)*s**5 + (1.48555213437681e-5*alpha_linha**2 - 0.0314199236077218*alpha_linha*epsilon_linha + 6.59649225503965e-7*epsilon_linha**2 - 4.03309783891985*epsilon_linha - 0.0126719149803521)*s**4 + (-3.3881317890172e-21*alpha_linha**2 - 0.00011164805242729*alpha_linha*epsilon_linha - 2.53866384789675e-5*epsilon_linha**2 - 0.0298013688584842*epsilon_linha - 7.35196813385181e-5)*s**3 + (5.29395592033938e-23*alpha_linha**2*epsilon_linha**2 + 5.42101086242752e-20*alpha_linha**2*epsilon_linha - 7.94093388050907e-23*alpha_linha**2 + 9.92616735063633e-24*alpha_linha*epsilon_linha**3 - 1.01643953670516e-20*alpha_linha*epsilon_linha**2 + 0.000191064735730922*alpha_linha*epsilon_linha + 0.0245301790406917*epsilon_linha + 4.0261793548826e-5)*s**2, s, domain='RR[alpha_linha,epsilon_linha]')"
      ]
     },
     "execution_count": 54,
     "metadata": {},
     "output_type": "execute_result"
    }
   ],
   "source": [
    "p = sp.simplify(A_num.charpoly('s'))\n",
    "p"
   ]
  },
  {
   "cell_type": "code",
   "execution_count": 55,
   "metadata": {},
   "outputs": [
    {
     "data": {
      "text/latex": [
       "$\\displaystyle \\left[\\begin{matrix}1.0 & 1.48555213437681 \\cdot 10^{-5} \\alpha_{linha}^{2} - 0.0314199236077218 \\alpha_{linha} \\epsilon_{linha} + 6.59649225503965 \\cdot 10^{-7} \\epsilon_{linha}^{2} - 4.03309783891985 \\epsilon_{linha} - 0.0126719149803521 & 5.29395592033938 \\cdot 10^{-23} \\alpha_{linha}^{2} \\epsilon_{linha}^{2} + 5.42101086242752 \\cdot 10^{-20} \\alpha_{linha}^{2} \\epsilon_{linha} - 7.94093388050907 \\cdot 10^{-23} \\alpha_{linha}^{2} + 9.92616735063633 \\cdot 10^{-24} \\alpha_{linha} \\epsilon_{linha}^{3} - 1.01643953670516 \\cdot 10^{-20} \\alpha_{linha} \\epsilon_{linha}^{2} + 0.000191064735730922 \\alpha_{linha} \\epsilon_{linha} + 0.0245301790406917 \\epsilon_{linha} + 4.0261793548826 \\cdot 10^{-5} & 0\\\\0.0039964518169993 \\alpha_{linha}^{2} - 0.00168429111074122 \\alpha_{linha} \\epsilon_{linha} + 0.000177459698979425 \\epsilon_{linha}^{2} + 0.0114347965906679 & - 3.3881317890172 \\cdot 10^{-21} \\alpha_{linha}^{2} - 0.00011164805242729 \\alpha_{linha} \\epsilon_{linha} - 2.53866384789675 \\cdot 10^{-5} \\epsilon_{linha}^{2} - 0.0298013688584842 \\epsilon_{linha} - 7.35196813385181 \\cdot 10^{-5} & 0 & 0\\\\\\frac{5.93693752667738 \\cdot 10^{-8} \\alpha_{linha}^{4} - 0.000125593231814604 \\alpha_{linha}^{3} \\epsilon_{linha} + 5.29255705453457 \\cdot 10^{-5} \\alpha_{linha}^{2} \\epsilon_{linha}^{2} - 0.0161180811864872 \\alpha_{linha}^{2} \\epsilon_{linha} - 5.04728277832744 \\cdot 10^{-5} \\alpha_{linha}^{2} - 5.57688122670956 \\cdot 10^{-6} \\alpha_{linha} \\epsilon_{linha}^{3} + 0.00679291083884232 \\alpha_{linha} \\epsilon_{linha}^{2} - 0.000226289189163857 \\alpha_{linha} \\epsilon_{linha} + 1.17061152989944 \\cdot 10^{-10} \\epsilon_{linha}^{4} - 0.000715712328449285 \\epsilon_{linha}^{3} + 2.31454272157762 \\cdot 10^{-5} \\epsilon_{linha}^{2} - 0.0163162845598264 \\epsilon_{linha} - 7.13810888760447 \\cdot 10^{-5}}{0.0039964518169993 \\alpha_{linha}^{2} - 0.00168429111074122 \\alpha_{linha} \\epsilon_{linha} + 0.000177459698979425 \\epsilon_{linha}^{2} + 0.0114347965906679} & \\frac{2.11570397569545 \\cdot 10^{-25} \\alpha_{linha}^{4} \\epsilon_{linha}^{2} + 2.16648087111214 \\cdot 10^{-22} \\alpha_{linha}^{4} \\epsilon_{linha} - 3.17355596354318 \\cdot 10^{-25} \\alpha_{linha}^{4} - 4.94961794285449 \\cdot 10^{-26} \\alpha_{linha}^{3} \\epsilon_{linha}^{3} - 1.31927120401535 \\cdot 10^{-22} \\alpha_{linha}^{3} \\epsilon_{linha}^{2} + 7.63581010276336 \\cdot 10^{-7} \\alpha_{linha}^{3} \\epsilon_{linha} - 7.32391719206878 \\cdot 10^{-27} \\alpha_{linha}^{2} \\epsilon_{linha}^{4} + 2.67399103208901 \\cdot 10^{-23} \\alpha_{linha}^{2} \\epsilon_{linha}^{3} - 3.21808635967713 \\cdot 10^{-7} \\alpha_{linha}^{2} \\epsilon_{linha}^{2} + 9.80336785984906 \\cdot 10^{-5} \\alpha_{linha}^{2} \\epsilon_{linha} + 1.60904317983856 \\cdot 10^{-7} \\alpha_{linha}^{2} + 1.76149467006332 \\cdot 10^{-27} \\alpha_{linha} \\epsilon_{linha}^{5} - 1.80377054214484 \\cdot 10^{-24} \\alpha_{linha} \\epsilon_{linha}^{4} + 3.39062904883929 \\cdot 10^{-8} \\alpha_{linha} \\epsilon_{linha}^{3} - 4.13159625031276 \\cdot 10^{-5} \\alpha_{linha} \\epsilon_{linha}^{2} + 2.11697380775602 \\cdot 10^{-6} \\alpha_{linha} \\epsilon_{linha} + 4.35311818847255 \\cdot 10^{-6} \\epsilon_{linha}^{3} + 7.14484576354641 \\cdot 10^{-9} \\epsilon_{linha}^{2} + 0.000280497607662974 \\epsilon_{linha} + 4.60385419606289 \\cdot 10^{-7}}{0.0039964518169993 \\alpha_{linha}^{2} - 0.00168429111074122 \\alpha_{linha} \\epsilon_{linha} + 0.000177459698979425 \\epsilon_{linha}^{2} + 0.0114347965906679} & 0 & 0\\\\\\frac{8.45530899790074 \\cdot 10^{-28} \\alpha_{linha}^{6} \\epsilon_{linha}^{2} + 8.65823641385035 \\cdot 10^{-25} \\alpha_{linha}^{6} \\epsilon_{linha} - 1.06714508204966 \\cdot 10^{-27} \\alpha_{linha}^{6} - 5.54155236134102 \\cdot 10^{-28} \\alpha_{linha}^{5} \\epsilon_{linha}^{3} - 8.92138827320709 \\cdot 10^{-25} \\alpha_{linha}^{5} \\epsilon_{linha}^{2} + 3.05824319106739 \\cdot 10^{-9} \\alpha_{linha}^{5} \\epsilon_{linha} + 9.16415119230036 \\cdot 10^{-29} \\alpha_{linha}^{4} \\epsilon_{linha}^{4} + 3.67514743669536 \\cdot 10^{-25} \\alpha_{linha}^{4} \\epsilon_{linha}^{3} - 1.65929179571615 \\cdot 10^{-8} \\alpha_{linha}^{4} \\epsilon_{linha}^{2} + 3.93556161613286 \\cdot 10^{-7} \\alpha_{linha}^{4} \\epsilon_{linha} + 6.47411171520496 \\cdot 10^{-10} \\alpha_{linha}^{4} + 1.05917600951942 \\cdot 10^{-29} \\alpha_{linha}^{3} \\epsilon_{linha}^{5} - 7.56582223897758 \\cdot 10^{-26} \\alpha_{linha}^{3} \\epsilon_{linha}^{4} + 3.53367604088873 \\cdot 10^{-9} \\alpha_{linha}^{3} \\epsilon_{linha}^{3} - 5.87263710760575 \\cdot 10^{-6} \\alpha_{linha}^{3} \\epsilon_{linha}^{2} + 2.05200033730809 \\cdot 10^{-9} \\alpha_{linha}^{3} \\epsilon_{linha} - 4.26656995466045 \\cdot 10^{-30} \\alpha_{linha}^{2} \\epsilon_{linha}^{6} + 7.78333112623339 \\cdot 10^{-27} \\alpha_{linha}^{2} \\epsilon_{linha}^{5} + 6.06738270811726 \\cdot 10^{-10} \\alpha_{linha}^{2} \\epsilon_{linha}^{4} + 2.03086797784415 \\cdot 10^{-6} \\alpha_{linha}^{2} \\epsilon_{linha}^{3} - 0.000480370726049501 \\alpha_{linha}^{2} \\epsilon_{linha}^{2} - 4.4716520310171 \\cdot 10^{-7} \\alpha_{linha}^{2} \\epsilon_{linha} - 3.09299214691593 \\cdot 10^{-11} \\alpha_{linha}^{2} + 3.12594313903298 \\cdot 10^{-31} \\alpha_{linha} \\epsilon_{linha}^{7} - 3.20096577436977 \\cdot 10^{-28} \\alpha_{linha} \\epsilon_{linha}^{6} - 1.35548197789291 \\cdot 10^{-10} \\alpha_{linha} \\epsilon_{linha}^{5} - 8.83212469388416 \\cdot 10^{-8} \\alpha_{linha} \\epsilon_{linha}^{4} + 0.000202435222295708 \\alpha_{linha} \\epsilon_{linha}^{3} - 9.01087560302269 \\cdot 10^{-6} \\alpha_{linha} \\epsilon_{linha}^{2} - 1.17452682112409 \\cdot 10^{-9} \\alpha_{linha} \\epsilon_{linha} + 2.97178917088682 \\cdot 10^{-15} \\epsilon_{linha}^{6} - 1.73935385113346 \\cdot 10^{-8} \\epsilon_{linha}^{5} - 2.13286182355601 \\cdot 10^{-5} \\epsilon_{linha}^{4} + 3.22484896127272 \\cdot 10^{-7} \\epsilon_{linha}^{3} - 0.000486247561649126 \\epsilon_{linha}^{2} - 1.19389112787205 \\cdot 10^{-7} \\epsilon_{linha} + 1.64987187439351 \\cdot 10^{-11}}{- 5.93693752667738 \\cdot 10^{-8} \\alpha_{linha}^{4} + 0.000125593231814604 \\alpha_{linha}^{3} \\epsilon_{linha} - 5.29255705453457 \\cdot 10^{-5} \\alpha_{linha}^{2} \\epsilon_{linha}^{2} + 0.0161180811864872 \\alpha_{linha}^{2} \\epsilon_{linha} + 5.04728277832744 \\cdot 10^{-5} \\alpha_{linha}^{2} + 5.57688122670956 \\cdot 10^{-6} \\alpha_{linha} \\epsilon_{linha}^{3} - 0.00679291083884232 \\alpha_{linha} \\epsilon_{linha}^{2} + 0.000226289189163857 \\alpha_{linha} \\epsilon_{linha} - 1.17061152989944 \\cdot 10^{-10} \\epsilon_{linha}^{4} + 0.000715712328449285 \\epsilon_{linha}^{3} - 2.31454272157762 \\cdot 10^{-5} \\epsilon_{linha}^{2} + 0.0163162845598264 \\epsilon_{linha} + 7.13810888760447 \\cdot 10^{-5}} & 0 & 0 & 0\\\\- \\frac{\\left(- 5.93693752667738 \\cdot 10^{-8} \\alpha_{linha}^{4} + 0.000125593231814604 \\alpha_{linha}^{3} \\epsilon_{linha} - 5.29255705453457 \\cdot 10^{-5} \\alpha_{linha}^{2} \\epsilon_{linha}^{2} + 0.0161180811864872 \\alpha_{linha}^{2} \\epsilon_{linha} + 5.04728277832744 \\cdot 10^{-5} \\alpha_{linha}^{2} + 5.57688122670956 \\cdot 10^{-6} \\alpha_{linha} \\epsilon_{linha}^{3} - 0.00679291083884232 \\alpha_{linha} \\epsilon_{linha}^{2} + 0.000226289189163857 \\alpha_{linha} \\epsilon_{linha} - 1.17061152989944 \\cdot 10^{-10} \\epsilon_{linha}^{4} + 0.000715712328449285 \\epsilon_{linha}^{3} - 2.31454272157762 \\cdot 10^{-5} \\epsilon_{linha}^{2} + 0.0163162845598264 \\epsilon_{linha} + 7.13810888760447 \\cdot 10^{-5}\\right) \\left(1.78889308625921 \\cdot 10^{-52} \\alpha_{linha}^{10} \\epsilon_{linha}^{4} + 3.66365304065886 \\cdot 10^{-49} \\alpha_{linha}^{10} \\epsilon_{linha}^{3} + 1.87578541571462 \\cdot 10^{-46} \\alpha_{linha}^{10} \\epsilon_{linha}^{2} - 5.05968918745614 \\cdot 10^{-49} \\alpha_{linha}^{10} \\epsilon_{linha} + 3.38664463910448 \\cdot 10^{-52} \\alpha_{linha}^{10} - 1.59093392752526 \\cdot 10^{-52} \\alpha_{linha}^{9} \\epsilon_{linha}^{5} - 4.6321025738188 \\cdot 10^{-49} \\alpha_{linha}^{9} \\epsilon_{linha}^{4} + 1.29266506647974 \\cdot 10^{-33} \\alpha_{linha}^{9} \\epsilon_{linha}^{3} + 1.32368902807557 \\cdot 10^{-30} \\alpha_{linha}^{9} \\epsilon_{linha}^{2} - 1.78540231156063 \\cdot 10^{-33} \\alpha_{linha}^{9} \\epsilon_{linha} + 4.06245998169874 \\cdot 10^{-53} \\alpha_{linha}^{8} \\epsilon_{linha}^{6} + 2.31142966501262 \\cdot 10^{-49} \\alpha_{linha}^{8} \\epsilon_{linha}^{5} - 4.35718316334367 \\cdot 10^{-33} \\alpha_{linha}^{8} \\epsilon_{linha}^{4} - 4.7919836067389 \\cdot 10^{-30} \\alpha_{linha}^{8} \\epsilon_{linha}^{3} + 2.33521642550613 \\cdot 10^{-15} \\alpha_{linha}^{8} \\epsilon_{linha}^{2} + 5.00617460363866 \\cdot 10^{-32} \\alpha_{linha}^{8} \\epsilon_{linha} - 3.77167810041362 \\cdot 10^{-34} \\alpha_{linha}^{8} + 3.25298341140891 \\cdot 10^{-54} \\alpha_{linha}^{7} \\epsilon_{linha}^{7} - 5.22770425221444 \\cdot 10^{-50} \\alpha_{linha}^{7} \\epsilon_{linha}^{6} + 1.82348544463621 \\cdot 10^{-33} \\alpha_{linha}^{7} \\epsilon_{linha}^{5} + 2.28226382152615 \\cdot 10^{-30} \\alpha_{linha}^{7} \\epsilon_{linha}^{4} - 1.36542061269381 \\cdot 10^{-14} \\alpha_{linha}^{7} \\epsilon_{linha}^{3} + 6.00322841554272 \\cdot 10^{-13} \\alpha_{linha}^{7} \\epsilon_{linha}^{2} + 9.86435411301277 \\cdot 10^{-16} \\alpha_{linha}^{7} \\epsilon_{linha} - 3.07424789921958 \\cdot 10^{-54} \\alpha_{linha}^{6} \\epsilon_{linha}^{8} + 2.25674014531935 \\cdot 10^{-51} \\alpha_{linha}^{6} \\epsilon_{linha}^{7} + 4.01839185001094 \\cdot 10^{-35} \\alpha_{linha}^{6} \\epsilon_{linha}^{6} - 2.37215864190086 \\cdot 10^{-31} \\alpha_{linha}^{6} \\epsilon_{linha}^{5} + 8.14168589783108 \\cdot 10^{-15} \\alpha_{linha}^{6} \\epsilon_{linha}^{4} - 6.36390299418854 \\cdot 10^{-12} \\alpha_{linha}^{6} \\epsilon_{linha}^{3} + 3.85869211326231 \\cdot 10^{-11} \\alpha_{linha}^{6} \\epsilon_{linha}^{2} + 1.26792984482643 \\cdot 10^{-13} \\alpha_{linha}^{6} \\epsilon_{linha} + 1.04171253008635 \\cdot 10^{-16} \\alpha_{linha}^{6} + 3.61167476244266 \\cdot 10^{-55} \\alpha_{linha}^{5} \\epsilon_{linha}^{9} + 1.4970434074012 \\cdot 10^{-51} \\alpha_{linha}^{5} \\epsilon_{linha}^{8} - 1.17377067604855 \\cdot 10^{-34} \\alpha_{linha}^{5} \\epsilon_{linha}^{7} - 2.29023822654676 \\cdot 10^{-32} \\alpha_{linha}^{5} \\epsilon_{linha}^{6} - 1.23647794117645 \\cdot 10^{-15} \\alpha_{linha}^{5} \\epsilon_{linha}^{5} + 4.49922612039038 \\cdot 10^{-12} \\alpha_{linha}^{5} \\epsilon_{linha}^{4} - 9.58813509391155 \\cdot 10^{-10} \\alpha_{linha}^{5} \\epsilon_{linha}^{3} + 5.79015184516497 \\cdot 10^{-13} \\alpha_{linha}^{5} \\epsilon_{linha}^{2} + 3.08508128182918 \\cdot 10^{-15} \\alpha_{linha}^{5} \\epsilon_{linha} + 3.44331097470752 \\cdot 10^{-56} \\alpha_{linha}^{4} \\epsilon_{linha}^{10} - 3.48864941003513 \\cdot 10^{-52} \\alpha_{linha}^{4} \\epsilon_{linha}^{9} + 1.04614347546413 \\cdot 10^{-35} \\alpha_{linha}^{4} \\epsilon_{linha}^{8} - 2.5650104754513 \\cdot 10^{-33} \\alpha_{linha}^{4} \\epsilon_{linha}^{7} - 1.78941798794099 \\cdot 10^{-16} \\alpha_{linha}^{4} \\epsilon_{linha}^{6} - 1.07885799557895 \\cdot 10^{-12} \\alpha_{linha}^{4} \\epsilon_{linha}^{5} + 7.52610978646752 \\cdot 10^{-10} \\alpha_{linha}^{4} \\epsilon_{linha}^{4} - 4.71160848650498 \\cdot 10^{-8} \\alpha_{linha}^{4} \\epsilon_{linha}^{3} - 1.07435894158936 \\cdot 10^{-11} \\alpha_{linha}^{4} \\epsilon_{linha}^{2} + 2.87801817377175 \\cdot 10^{-13} \\alpha_{linha}^{4} \\epsilon_{linha} + 2.93081905938973 \\cdot 10^{-16} \\alpha_{linha}^{4} - 9.80495510432598 \\cdot 10^{-57} \\alpha_{linha}^{3} \\epsilon_{linha}^{11} + 3.21093142416222 \\cdot 10^{-53} \\alpha_{linha}^{3} \\epsilon_{linha}^{10} + 1.81610380405092 \\cdot 10^{-36} \\alpha_{linha}^{3} \\epsilon_{linha}^{9} + 9.85722115574954 \\cdot 10^{-34} \\alpha_{linha}^{3} \\epsilon_{linha}^{8} + 6.41950939007927 \\cdot 10^{-17} \\alpha_{linha}^{3} \\epsilon_{linha}^{7} + 6.10266092389708 \\cdot 10^{-14} \\alpha_{linha}^{3} \\epsilon_{linha}^{6} - 2.15847837476806 \\cdot 10^{-10} \\alpha_{linha}^{3} \\epsilon_{linha}^{5} + 3.97008225280645 \\cdot 10^{-8} \\alpha_{linha}^{3} \\epsilon_{linha}^{4} - 3.86780181096014 \\cdot 10^{-9} \\alpha_{linha}^{3} \\epsilon_{linha}^{3} - 4.72964967425975 \\cdot 10^{-12} \\alpha_{linha}^{3} \\epsilon_{linha}^{2} + 7.02844873917711 \\cdot 10^{-16} \\alpha_{linha}^{3} \\epsilon_{linha} + 5.5063321783276 \\cdot 10^{-58} \\alpha_{linha}^{2} \\epsilon_{linha}^{12} - 1.12769683012149 \\cdot 10^{-54} \\alpha_{linha}^{2} \\epsilon_{linha}^{11} - 2.28190279468099 \\cdot 10^{-37} \\alpha_{linha}^{2} \\epsilon_{linha}^{10} + 1.74047435824164 \\cdot 10^{-34} \\alpha_{linha}^{2} \\epsilon_{linha}^{9} - 4.59689291684104 \\cdot 10^{-18} \\alpha_{linha}^{2} \\epsilon_{linha}^{8} + 1.08445440429443 \\cdot 10^{-14} \\alpha_{linha}^{2} \\epsilon_{linha}^{7} + 2.45118114726313 \\cdot 10^{-11} \\alpha_{linha}^{2} \\epsilon_{linha}^{6} - 1.25462538808927 \\cdot 10^{-8} \\alpha_{linha}^{2} \\epsilon_{linha}^{5} + 1.54977935139654 \\cdot 10^{-9} \\alpha_{linha}^{2} \\epsilon_{linha}^{4} - 1.82429481925054 \\cdot 10^{-7} \\alpha_{linha}^{2} \\epsilon_{linha}^{3} - 4.36530426141577 \\cdot 10^{-10} \\alpha_{linha}^{2} \\epsilon_{linha}^{2} - 2.32136902317708 \\cdot 10^{-13} \\alpha_{linha}^{2} \\epsilon_{linha} - 1.15849697868681 \\cdot 10^{-17} \\alpha_{linha}^{2} + 5.23479078506902 \\cdot 10^{-42} \\alpha_{linha} \\epsilon_{linha}^{11} - 2.92832258135553 \\cdot 10^{-35} \\alpha_{linha} \\epsilon_{linha}^{10} + 1.00762346890759 \\cdot 10^{-22} \\alpha_{linha} \\epsilon_{linha}^{9} - 1.17993047692751 \\cdot 10^{-15} \\alpha_{linha} \\epsilon_{linha}^{8} - 3.89017329337741 \\cdot 10^{-13} \\alpha_{linha} \\epsilon_{linha}^{7} + 1.76237230004108 \\cdot 10^{-9} \\alpha_{linha} \\epsilon_{linha}^{6} - 1.37515750028815 \\cdot 10^{-10} \\alpha_{linha} \\epsilon_{linha}^{5} + 7.68729500730527 \\cdot 10^{-8} \\alpha_{linha} \\epsilon_{linha}^{4} - 3.45877150865846 \\cdot 10^{-9} \\alpha_{linha} \\epsilon_{linha}^{3} - 4.73135299412569 \\cdot 10^{-12} \\alpha_{linha} \\epsilon_{linha}^{2} - 5.0580766793961 \\cdot 10^{-16} \\alpha_{linha} \\epsilon_{linha} + 1.29365494920932 \\cdot 10^{-20} \\epsilon_{linha}^{9} - 7.57161288343545 \\cdot 10^{-14} \\epsilon_{linha}^{8} - 9.28461194167741 \\cdot 10^{-11} \\epsilon_{linha}^{7} - 3.62742076065832 \\cdot 10^{-12} \\epsilon_{linha}^{6} - 8.09932519817341 \\cdot 10^{-9} \\epsilon_{linha}^{5} + 7.66429782658787 \\cdot 10^{-11} \\epsilon_{linha}^{4} - 1.36391130088386 \\cdot 10^{-7} \\epsilon_{linha}^{3} - 2.57349648102303 \\cdot 10^{-10} \\epsilon_{linha}^{2} - 5.03371556497819 \\cdot 10^{-14} \\epsilon_{linha} + 7.59576955189271 \\cdot 10^{-18}\\right)}{\\left(- 2.37266847659012 \\cdot 10^{-10} \\alpha_{linha}^{6} + 5.020272947993 \\cdot 10^{-7} \\alpha_{linha}^{5} \\epsilon_{linha} - 4.23060592157734 \\cdot 10^{-7} \\alpha_{linha}^{4} \\epsilon_{linha}^{2} + 6.4415134844279 \\cdot 10^{-5} \\alpha_{linha}^{4} \\epsilon_{linha} + 2.01033347573669 \\cdot 10^{-7} \\alpha_{linha}^{4} + 1.33717542223779 \\cdot 10^{-7} \\alpha_{linha}^{3} \\epsilon_{linha}^{3} - 5.42950817292113 \\cdot 10^{-5} \\alpha_{linha}^{3} \\epsilon_{linha}^{2} + 2.25547596499645 \\cdot 10^{-6} \\alpha_{linha}^{3} \\epsilon_{linha} - 1.87857151223554 \\cdot 10^{-8} \\alpha_{linha}^{2} \\epsilon_{linha}^{4} + 1.71618590128797 \\cdot 10^{-5} \\alpha_{linha}^{2} \\epsilon_{linha}^{3} - 1.06987269522325 \\cdot 10^{-6} \\alpha_{linha}^{2} \\epsilon_{linha}^{2} + 0.000249514224875148 \\alpha_{linha}^{2} \\epsilon_{linha} + 8.6241760139561 \\cdot 10^{-7} \\alpha_{linha}^{2} + 9.89868828795279 \\cdot 10^{-10} \\alpha_{linha} \\epsilon_{linha}^{5} - 2.41093582531006 \\cdot 10^{-6} \\alpha_{linha} \\epsilon_{linha}^{4} + 1.42911351142894 \\cdot 10^{-7} \\alpha_{linha} \\epsilon_{linha}^{3} - 0.000105156926745145 \\alpha_{linha} \\epsilon_{linha}^{2} + 2.46734431528692 \\cdot 10^{-6} \\alpha_{linha} \\epsilon_{linha} - 2.07736369717799 \\cdot 10^{-14} \\epsilon_{linha}^{6} + 1.27010094362473 \\cdot 10^{-7} \\epsilon_{linha}^{5} - 4.10871911693494 \\cdot 10^{-9} \\epsilon_{linha}^{4} + 1.10795078397003 \\cdot 10^{-5} \\epsilon_{linha}^{3} - 2.51995985671742 \\cdot 10^{-7} \\epsilon_{linha}^{2} + 0.00018657339505707 \\epsilon_{linha} + 8.16228231717957 \\cdot 10^{-7}\\right) \\left(- 8.45530899790074 \\cdot 10^{-28} \\alpha_{linha}^{6} \\epsilon_{linha}^{2} - 8.65823641385035 \\cdot 10^{-25} \\alpha_{linha}^{6} \\epsilon_{linha} + 1.06714508204966 \\cdot 10^{-27} \\alpha_{linha}^{6} + 5.54155236134102 \\cdot 10^{-28} \\alpha_{linha}^{5} \\epsilon_{linha}^{3} + 8.92138827320709 \\cdot 10^{-25} \\alpha_{linha}^{5} \\epsilon_{linha}^{2} - 3.05824319106739 \\cdot 10^{-9} \\alpha_{linha}^{5} \\epsilon_{linha} - 9.16415119230036 \\cdot 10^{-29} \\alpha_{linha}^{4} \\epsilon_{linha}^{4} - 3.67514743669536 \\cdot 10^{-25} \\alpha_{linha}^{4} \\epsilon_{linha}^{3} + 1.65929179571615 \\cdot 10^{-8} \\alpha_{linha}^{4} \\epsilon_{linha}^{2} - 3.93556161613286 \\cdot 10^{-7} \\alpha_{linha}^{4} \\epsilon_{linha} - 6.47411171520496 \\cdot 10^{-10} \\alpha_{linha}^{4} - 1.05917600951942 \\cdot 10^{-29} \\alpha_{linha}^{3} \\epsilon_{linha}^{5} + 7.56582223897758 \\cdot 10^{-26} \\alpha_{linha}^{3} \\epsilon_{linha}^{4} - 3.53367604088873 \\cdot 10^{-9} \\alpha_{linha}^{3} \\epsilon_{linha}^{3} + 5.87263710760575 \\cdot 10^{-6} \\alpha_{linha}^{3} \\epsilon_{linha}^{2} - 2.05200033730809 \\cdot 10^{-9} \\alpha_{linha}^{3} \\epsilon_{linha} + 4.26656995466045 \\cdot 10^{-30} \\alpha_{linha}^{2} \\epsilon_{linha}^{6} - 7.78333112623339 \\cdot 10^{-27} \\alpha_{linha}^{2} \\epsilon_{linha}^{5} - 6.06738270811726 \\cdot 10^{-10} \\alpha_{linha}^{2} \\epsilon_{linha}^{4} - 2.03086797784415 \\cdot 10^{-6} \\alpha_{linha}^{2} \\epsilon_{linha}^{3} + 0.000480370726049501 \\alpha_{linha}^{2} \\epsilon_{linha}^{2} + 4.4716520310171 \\cdot 10^{-7} \\alpha_{linha}^{2} \\epsilon_{linha} + 3.09299214691593 \\cdot 10^{-11} \\alpha_{linha}^{2} - 3.12594313903298 \\cdot 10^{-31} \\alpha_{linha} \\epsilon_{linha}^{7} + 3.20096577436977 \\cdot 10^{-28} \\alpha_{linha} \\epsilon_{linha}^{6} + 1.35548197789291 \\cdot 10^{-10} \\alpha_{linha} \\epsilon_{linha}^{5} + 8.83212469388416 \\cdot 10^{-8} \\alpha_{linha} \\epsilon_{linha}^{4} - 0.000202435222295708 \\alpha_{linha} \\epsilon_{linha}^{3} + 9.01087560302269 \\cdot 10^{-6} \\alpha_{linha} \\epsilon_{linha}^{2} + 1.17452682112409 \\cdot 10^{-9} \\alpha_{linha} \\epsilon_{linha} - 2.97178917088682 \\cdot 10^{-15} \\epsilon_{linha}^{6} + 1.73935385113346 \\cdot 10^{-8} \\epsilon_{linha}^{5} + 2.13286182355601 \\cdot 10^{-5} \\epsilon_{linha}^{4} - 3.22484896127272 \\cdot 10^{-7} \\epsilon_{linha}^{3} + 0.000486247561649126 \\epsilon_{linha}^{2} + 1.19389112787205 \\cdot 10^{-7} \\epsilon_{linha} - 1.64987187439351 \\cdot 10^{-11}\\right)} & 0 & 0 & 0\\\\0 & 0 & 0 & 0\\\\\\text{NaN} & \\text{NaN} & \\text{NaN} & 0\\end{matrix}\\right]$"
      ],
      "text/plain": [
       "Matrix([\n",
       "[                                                                                                                                                                                                                                                                                                                                                                                                                                                                                                                                                                                                                                                                                                                                                                                                                                                                                                                                                                                                                                                                                                                                                                                                                                                                                                                                                                                                                                                                                                                                                                                                                                                                                                                                                                                                                                                                                                                                                                                                                                                                                                                                                                                                                                                                                                                                                                                                                                                                                                                                                                                                                                                                                                                                                                                                                                                                                                                                                                                                                                                                                                                                                                                                                                                                                                                                                                                                                                                                                                                                                                                                                                                                                                                                                                                                                                                                                                                                                                                                                                                                                                                                                                                                                                                                                                                                                                                                                                                                                                                                                                                                                                                                                                                                                                                                                                                                                                                                                                                                                                                                                                                                                                                                                                                                                                                                                                                                                                                                                                                                                                                                                                                                                                                                                                                                                                                                                                                                                                                                                                                                                                                                                                                                                                                                                                                                                                                                                                                                                                                                                                                                                                                                                                                                                                                                                                                                                                                                                                                                                                                                                                                                                                                                                                                                                                                                                                                                                                                                                                                                                                                                                                                                                                                                                                                                                                                                                                                                                                                                                                                                                                                                                                                                                                                                                                                                                                                                                                                                                                                                                                                                                                                                                                                                                                                                                                                                                                                                1.0,                                                                                                                                                                                                                                                                                                                                                                                                                                                                                                                                                                                                                                                                                                                                                                                                                                                                                                                                                        1.48555213437681e-5*alpha_linha**2 - 0.0314199236077218*alpha_linha*epsilon_linha + 6.59649225503965e-7*epsilon_linha**2 - 4.03309783891985*epsilon_linha - 0.0126719149803521, 5.29395592033938e-23*alpha_linha**2*epsilon_linha**2 + 5.42101086242752e-20*alpha_linha**2*epsilon_linha - 7.94093388050907e-23*alpha_linha**2 + 9.92616735063633e-24*alpha_linha*epsilon_linha**3 - 1.01643953670516e-20*alpha_linha*epsilon_linha**2 + 0.000191064735730922*alpha_linha*epsilon_linha + 0.0245301790406917*epsilon_linha + 4.0261793548826e-5, 0],\n",
       "[                                                                                                                                                                                                                                                                                                                                                                                                                                                                                                                                                                                                                                                                                                                                                                                                                                                                                                                                                                                                                                                                                                                                                                                                                                                                                                                                                                                                                                                                                                                                                                                                                                                                                                                                                                                                                                                                                                                                                                                                                                                                                                                                                                                                                                                                                                                                                                                                                                                                                                                                                                                                                                                                                                                                                                                                                                                                                                                                                                                                                                                                                                                                                                                                                                                                                                                                                                                                                                                                                                                                                                                                                                                                                                                                                                                                                                                                                                                                                                                                                                                                                                                                                                                                                                                                                                                                                                                                                                                                                                                                                                                                                                                                                                                                                                                                                                                                                                                                                                                                                                                                                                                                                                                                                                                                                                                                                                                                                                                                                                                                                                                                                                                                                                                                                                                                                                                                                                                                                                                                                                                                                                                                                                                                                                                                                                                                                                                                                                                                                                                                                                                                                                                                                                                                                                                                                                                                                                                                                                                                                                                                                                                                                                                                                                                                                                                                                                                                                                                                                                                                                                                                                                                                                                                                                                                                                                                                                                                                                                                                                                                                                                                                                                                                                                                                                                                                                                                                                                                                                                                                                                                                                                                                                                                                                                                     0.0039964518169993*alpha_linha**2 - 0.00168429111074122*alpha_linha*epsilon_linha + 0.000177459698979425*epsilon_linha**2 + 0.0114347965906679,                                                                                                                                                                                                                                                                                                                                                                                                                                                                                                                                                                                                                                                                                                                                                                                                                                                                                                                                                   -3.3881317890172e-21*alpha_linha**2 - 0.00011164805242729*alpha_linha*epsilon_linha - 2.53866384789675e-5*epsilon_linha**2 - 0.0298013688584842*epsilon_linha - 7.35196813385181e-5,                                                                                                                                                                                                                                                                                                                                                               0, 0],\n",
       "[                                                                                                                                                                                                                                                                                                                                                                                                                                                                                                                                                                                                                                                                                                                                                                                                                                                                                                                                                                                                                                                                                                                                                                                                                                                                                                                                                                                                                                                                                                                                                                                                                                                                                                                                                                                                                                                                                                                                                                                                                                                                                                                                                                                                                                                                                                                                                                                                                                                                                                                                                                                                                                                                                                                                                                                                                                                                                                                                                                                                                                                                                                                                                                                                                                                                                                                                                                                                                                                                                                                                                                                                                                                                                                                                                                                                                                                                                                                                                                                                                                                                                                                                                                                                                                                                                                                                                                                                                                                                                                                                                                                                                                                                                                                                                                                                                                                                                                                                                                                                                                                                                                                                                                                                                                                                                                                                                                                                                                                                                                                                                                                                                                                                                                                                                                                                                                                                                                                                                                                                                                                                                                                                                                                                                                                                                                                                                                                                                                                                                                                                                                                                                                                                                                                                                                                                                                                                                                                                                                                                                                                                                                                                                                                                                                                                                                                                                                                                                                                                                                                                                                                                                                                                                                                                                                                                                                                                                                                                                                                                                                                                                                                                                                                                      (5.93693752667738e-8*alpha_linha**4 - 0.000125593231814604*alpha_linha**3*epsilon_linha + 5.29255705453457e-5*alpha_linha**2*epsilon_linha**2 - 0.0161180811864872*alpha_linha**2*epsilon_linha - 5.04728277832744e-5*alpha_linha**2 - 5.57688122670956e-6*alpha_linha*epsilon_linha**3 + 0.00679291083884232*alpha_linha*epsilon_linha**2 - 0.000226289189163857*alpha_linha*epsilon_linha + 1.17061152989944e-10*epsilon_linha**4 - 0.000715712328449285*epsilon_linha**3 + 2.31454272157762e-5*epsilon_linha**2 - 0.0163162845598264*epsilon_linha - 7.13810888760447e-5)/(0.0039964518169993*alpha_linha**2 - 0.00168429111074122*alpha_linha*epsilon_linha + 0.000177459698979425*epsilon_linha**2 + 0.0114347965906679), (2.11570397569545e-25*alpha_linha**4*epsilon_linha**2 + 2.16648087111214e-22*alpha_linha**4*epsilon_linha - 3.17355596354318e-25*alpha_linha**4 - 4.94961794285449e-26*alpha_linha**3*epsilon_linha**3 - 1.31927120401535e-22*alpha_linha**3*epsilon_linha**2 + 7.63581010276336e-7*alpha_linha**3*epsilon_linha - 7.32391719206878e-27*alpha_linha**2*epsilon_linha**4 + 2.67399103208901e-23*alpha_linha**2*epsilon_linha**3 - 3.21808635967713e-7*alpha_linha**2*epsilon_linha**2 + 9.80336785984906e-5*alpha_linha**2*epsilon_linha + 1.60904317983856e-7*alpha_linha**2 + 1.76149467006332e-27*alpha_linha*epsilon_linha**5 - 1.80377054214484e-24*alpha_linha*epsilon_linha**4 + 3.39062904883929e-8*alpha_linha*epsilon_linha**3 - 4.13159625031276e-5*alpha_linha*epsilon_linha**2 + 2.11697380775602e-6*alpha_linha*epsilon_linha + 4.35311818847255e-6*epsilon_linha**3 + 7.14484576354641e-9*epsilon_linha**2 + 0.000280497607662974*epsilon_linha + 4.60385419606289e-7)/(0.0039964518169993*alpha_linha**2 - 0.00168429111074122*alpha_linha*epsilon_linha + 0.000177459698979425*epsilon_linha**2 + 0.0114347965906679),                                                                                                                                                                                                                                                                                                                                                               0, 0],\n",
       "[                                                                                                                                                                                                                                                                                                                                                                                                                                                                                                                                                                                                                                                                                                                                                                                                                                                                                                                                                                                                                                                                                                                                                                                                                                                                                                                                                                                                                                                                                                                                                                                                                                                                                                                                                                                                                                                                                                                                                                                                                                                                                                                                                                                                                                                                                                                                                                                                                                                                                                                                                                                                                                                                                                                                                                                                                                                                                                                                                                                                                                                                                                                                                                                                                                                                                                                                                                                                                                                                                                                                                                                                                                                                                                                                                                                                                                                                                                                                                                                                                                                                                                                                                                                                                                                                                                                                                                                                                                                                                                                                                                                                                                                                                                                                                                                                                                                                                                                                                                                                                                                                                                                                                                                                                                                                                                                                                                                                                                                                                                                                                                                                                                                                                                                                                                                                                                                                                                                                                                                                                                                                                                                                                                                                                                                                                                                                                                                                                                                                          (8.45530899790074e-28*alpha_linha**6*epsilon_linha**2 + 8.65823641385035e-25*alpha_linha**6*epsilon_linha - 1.06714508204966e-27*alpha_linha**6 - 5.54155236134102e-28*alpha_linha**5*epsilon_linha**3 - 8.92138827320709e-25*alpha_linha**5*epsilon_linha**2 + 3.05824319106739e-9*alpha_linha**5*epsilon_linha + 9.16415119230036e-29*alpha_linha**4*epsilon_linha**4 + 3.67514743669536e-25*alpha_linha**4*epsilon_linha**3 - 1.65929179571615e-8*alpha_linha**4*epsilon_linha**2 + 3.93556161613286e-7*alpha_linha**4*epsilon_linha + 6.47411171520496e-10*alpha_linha**4 + 1.05917600951942e-29*alpha_linha**3*epsilon_linha**5 - 7.56582223897758e-26*alpha_linha**3*epsilon_linha**4 + 3.53367604088873e-9*alpha_linha**3*epsilon_linha**3 - 5.87263710760575e-6*alpha_linha**3*epsilon_linha**2 + 2.05200033730809e-9*alpha_linha**3*epsilon_linha - 4.26656995466045e-30*alpha_linha**2*epsilon_linha**6 + 7.78333112623339e-27*alpha_linha**2*epsilon_linha**5 + 6.06738270811726e-10*alpha_linha**2*epsilon_linha**4 + 2.03086797784415e-6*alpha_linha**2*epsilon_linha**3 - 0.000480370726049501*alpha_linha**2*epsilon_linha**2 - 4.4716520310171e-7*alpha_linha**2*epsilon_linha - 3.09299214691593e-11*alpha_linha**2 + 3.12594313903298e-31*alpha_linha*epsilon_linha**7 - 3.20096577436977e-28*alpha_linha*epsilon_linha**6 - 1.35548197789291e-10*alpha_linha*epsilon_linha**5 - 8.83212469388416e-8*alpha_linha*epsilon_linha**4 + 0.000202435222295708*alpha_linha*epsilon_linha**3 - 9.01087560302269e-6*alpha_linha*epsilon_linha**2 - 1.17452682112409e-9*alpha_linha*epsilon_linha + 2.97178917088682e-15*epsilon_linha**6 - 1.73935385113346e-8*epsilon_linha**5 - 2.13286182355601e-5*epsilon_linha**4 + 3.22484896127272e-7*epsilon_linha**3 - 0.000486247561649126*epsilon_linha**2 - 1.19389112787205e-7*epsilon_linha + 1.64987187439351e-11)/(-5.93693752667738e-8*alpha_linha**4 + 0.000125593231814604*alpha_linha**3*epsilon_linha - 5.29255705453457e-5*alpha_linha**2*epsilon_linha**2 + 0.0161180811864872*alpha_linha**2*epsilon_linha + 5.04728277832744e-5*alpha_linha**2 + 5.57688122670956e-6*alpha_linha*epsilon_linha**3 - 0.00679291083884232*alpha_linha*epsilon_linha**2 + 0.000226289189163857*alpha_linha*epsilon_linha - 1.17061152989944e-10*epsilon_linha**4 + 0.000715712328449285*epsilon_linha**3 - 2.31454272157762e-5*epsilon_linha**2 + 0.0163162845598264*epsilon_linha + 7.13810888760447e-5),                                                                                                                                                                                                                                                                                                                                                                                                                                                                                                                                                                                                                                                                                                                                                                                                                                                                                                                                                                                                                                                                                                                                     0,                                                                                                                                                                                                                                                                                                                                                               0, 0],\n",
       "[-(-5.93693752667738e-8*alpha_linha**4 + 0.000125593231814604*alpha_linha**3*epsilon_linha - 5.29255705453457e-5*alpha_linha**2*epsilon_linha**2 + 0.0161180811864872*alpha_linha**2*epsilon_linha + 5.04728277832744e-5*alpha_linha**2 + 5.57688122670956e-6*alpha_linha*epsilon_linha**3 - 0.00679291083884232*alpha_linha*epsilon_linha**2 + 0.000226289189163857*alpha_linha*epsilon_linha - 1.17061152989944e-10*epsilon_linha**4 + 0.000715712328449285*epsilon_linha**3 - 2.31454272157762e-5*epsilon_linha**2 + 0.0163162845598264*epsilon_linha + 7.13810888760447e-5)*(1.78889308625921e-52*alpha_linha**10*epsilon_linha**4 + 3.66365304065886e-49*alpha_linha**10*epsilon_linha**3 + 1.87578541571462e-46*alpha_linha**10*epsilon_linha**2 - 5.05968918745614e-49*alpha_linha**10*epsilon_linha + 3.38664463910448e-52*alpha_linha**10 - 1.59093392752526e-52*alpha_linha**9*epsilon_linha**5 - 4.6321025738188e-49*alpha_linha**9*epsilon_linha**4 + 1.29266506647974e-33*alpha_linha**9*epsilon_linha**3 + 1.32368902807557e-30*alpha_linha**9*epsilon_linha**2 - 1.78540231156063e-33*alpha_linha**9*epsilon_linha + 4.06245998169874e-53*alpha_linha**8*epsilon_linha**6 + 2.31142966501262e-49*alpha_linha**8*epsilon_linha**5 - 4.35718316334367e-33*alpha_linha**8*epsilon_linha**4 - 4.7919836067389e-30*alpha_linha**8*epsilon_linha**3 + 2.33521642550613e-15*alpha_linha**8*epsilon_linha**2 + 5.00617460363866e-32*alpha_linha**8*epsilon_linha - 3.77167810041362e-34*alpha_linha**8 + 3.25298341140891e-54*alpha_linha**7*epsilon_linha**7 - 5.22770425221444e-50*alpha_linha**7*epsilon_linha**6 + 1.82348544463621e-33*alpha_linha**7*epsilon_linha**5 + 2.28226382152615e-30*alpha_linha**7*epsilon_linha**4 - 1.36542061269381e-14*alpha_linha**7*epsilon_linha**3 + 6.00322841554272e-13*alpha_linha**7*epsilon_linha**2 + 9.86435411301277e-16*alpha_linha**7*epsilon_linha - 3.07424789921958e-54*alpha_linha**6*epsilon_linha**8 + 2.25674014531935e-51*alpha_linha**6*epsilon_linha**7 + 4.01839185001094e-35*alpha_linha**6*epsilon_linha**6 - 2.37215864190086e-31*alpha_linha**6*epsilon_linha**5 + 8.14168589783108e-15*alpha_linha**6*epsilon_linha**4 - 6.36390299418854e-12*alpha_linha**6*epsilon_linha**3 + 3.85869211326231e-11*alpha_linha**6*epsilon_linha**2 + 1.26792984482643e-13*alpha_linha**6*epsilon_linha + 1.04171253008635e-16*alpha_linha**6 + 3.61167476244266e-55*alpha_linha**5*epsilon_linha**9 + 1.4970434074012e-51*alpha_linha**5*epsilon_linha**8 - 1.17377067604855e-34*alpha_linha**5*epsilon_linha**7 - 2.29023822654676e-32*alpha_linha**5*epsilon_linha**6 - 1.23647794117645e-15*alpha_linha**5*epsilon_linha**5 + 4.49922612039038e-12*alpha_linha**5*epsilon_linha**4 - 9.58813509391155e-10*alpha_linha**5*epsilon_linha**3 + 5.79015184516497e-13*alpha_linha**5*epsilon_linha**2 + 3.08508128182918e-15*alpha_linha**5*epsilon_linha + 3.44331097470752e-56*alpha_linha**4*epsilon_linha**10 - 3.48864941003513e-52*alpha_linha**4*epsilon_linha**9 + 1.04614347546413e-35*alpha_linha**4*epsilon_linha**8 - 2.5650104754513e-33*alpha_linha**4*epsilon_linha**7 - 1.78941798794099e-16*alpha_linha**4*epsilon_linha**6 - 1.07885799557895e-12*alpha_linha**4*epsilon_linha**5 + 7.52610978646752e-10*alpha_linha**4*epsilon_linha**4 - 4.71160848650498e-8*alpha_linha**4*epsilon_linha**3 - 1.07435894158936e-11*alpha_linha**4*epsilon_linha**2 + 2.87801817377175e-13*alpha_linha**4*epsilon_linha + 2.93081905938973e-16*alpha_linha**4 - 9.80495510432598e-57*alpha_linha**3*epsilon_linha**11 + 3.21093142416222e-53*alpha_linha**3*epsilon_linha**10 + 1.81610380405092e-36*alpha_linha**3*epsilon_linha**9 + 9.85722115574954e-34*alpha_linha**3*epsilon_linha**8 + 6.41950939007927e-17*alpha_linha**3*epsilon_linha**7 + 6.10266092389708e-14*alpha_linha**3*epsilon_linha**6 - 2.15847837476806e-10*alpha_linha**3*epsilon_linha**5 + 3.97008225280645e-8*alpha_linha**3*epsilon_linha**4 - 3.86780181096014e-9*alpha_linha**3*epsilon_linha**3 - 4.72964967425975e-12*alpha_linha**3*epsilon_linha**2 + 7.02844873917711e-16*alpha_linha**3*epsilon_linha + 5.5063321783276e-58*alpha_linha**2*epsilon_linha**12 - 1.12769683012149e-54*alpha_linha**2*epsilon_linha**11 - 2.28190279468099e-37*alpha_linha**2*epsilon_linha**10 + 1.74047435824164e-34*alpha_linha**2*epsilon_linha**9 - 4.59689291684104e-18*alpha_linha**2*epsilon_linha**8 + 1.08445440429443e-14*alpha_linha**2*epsilon_linha**7 + 2.45118114726313e-11*alpha_linha**2*epsilon_linha**6 - 1.25462538808927e-8*alpha_linha**2*epsilon_linha**5 + 1.54977935139654e-9*alpha_linha**2*epsilon_linha**4 - 1.82429481925054e-7*alpha_linha**2*epsilon_linha**3 - 4.36530426141577e-10*alpha_linha**2*epsilon_linha**2 - 2.32136902317708e-13*alpha_linha**2*epsilon_linha - 1.15849697868681e-17*alpha_linha**2 + 5.23479078506902e-42*alpha_linha*epsilon_linha**11 - 2.92832258135553e-35*alpha_linha*epsilon_linha**10 + 1.00762346890759e-22*alpha_linha*epsilon_linha**9 - 1.17993047692751e-15*alpha_linha*epsilon_linha**8 - 3.89017329337741e-13*alpha_linha*epsilon_linha**7 + 1.76237230004108e-9*alpha_linha*epsilon_linha**6 - 1.37515750028815e-10*alpha_linha*epsilon_linha**5 + 7.68729500730527e-8*alpha_linha*epsilon_linha**4 - 3.45877150865846e-9*alpha_linha*epsilon_linha**3 - 4.73135299412569e-12*alpha_linha*epsilon_linha**2 - 5.0580766793961e-16*alpha_linha*epsilon_linha + 1.29365494920932e-20*epsilon_linha**9 - 7.57161288343545e-14*epsilon_linha**8 - 9.28461194167741e-11*epsilon_linha**7 - 3.62742076065832e-12*epsilon_linha**6 - 8.09932519817341e-9*epsilon_linha**5 + 7.66429782658787e-11*epsilon_linha**4 - 1.36391130088386e-7*epsilon_linha**3 - 2.57349648102303e-10*epsilon_linha**2 - 5.03371556497819e-14*epsilon_linha + 7.59576955189271e-18)/((-2.37266847659012e-10*alpha_linha**6 + 5.020272947993e-7*alpha_linha**5*epsilon_linha - 4.23060592157734e-7*alpha_linha**4*epsilon_linha**2 + 6.4415134844279e-5*alpha_linha**4*epsilon_linha + 2.01033347573669e-7*alpha_linha**4 + 1.33717542223779e-7*alpha_linha**3*epsilon_linha**3 - 5.42950817292113e-5*alpha_linha**3*epsilon_linha**2 + 2.25547596499645e-6*alpha_linha**3*epsilon_linha - 1.87857151223554e-8*alpha_linha**2*epsilon_linha**4 + 1.71618590128797e-5*alpha_linha**2*epsilon_linha**3 - 1.06987269522325e-6*alpha_linha**2*epsilon_linha**2 + 0.000249514224875148*alpha_linha**2*epsilon_linha + 8.6241760139561e-7*alpha_linha**2 + 9.89868828795279e-10*alpha_linha*epsilon_linha**5 - 2.41093582531006e-6*alpha_linha*epsilon_linha**4 + 1.42911351142894e-7*alpha_linha*epsilon_linha**3 - 0.000105156926745145*alpha_linha*epsilon_linha**2 + 2.46734431528692e-6*alpha_linha*epsilon_linha - 2.07736369717799e-14*epsilon_linha**6 + 1.27010094362473e-7*epsilon_linha**5 - 4.10871911693494e-9*epsilon_linha**4 + 1.10795078397003e-5*epsilon_linha**3 - 2.51995985671742e-7*epsilon_linha**2 + 0.00018657339505707*epsilon_linha + 8.16228231717957e-7)*(-8.45530899790074e-28*alpha_linha**6*epsilon_linha**2 - 8.65823641385035e-25*alpha_linha**6*epsilon_linha + 1.06714508204966e-27*alpha_linha**6 + 5.54155236134102e-28*alpha_linha**5*epsilon_linha**3 + 8.92138827320709e-25*alpha_linha**5*epsilon_linha**2 - 3.05824319106739e-9*alpha_linha**5*epsilon_linha - 9.16415119230036e-29*alpha_linha**4*epsilon_linha**4 - 3.67514743669536e-25*alpha_linha**4*epsilon_linha**3 + 1.65929179571615e-8*alpha_linha**4*epsilon_linha**2 - 3.93556161613286e-7*alpha_linha**4*epsilon_linha - 6.47411171520496e-10*alpha_linha**4 - 1.05917600951942e-29*alpha_linha**3*epsilon_linha**5 + 7.56582223897758e-26*alpha_linha**3*epsilon_linha**4 - 3.53367604088873e-9*alpha_linha**3*epsilon_linha**3 + 5.87263710760575e-6*alpha_linha**3*epsilon_linha**2 - 2.05200033730809e-9*alpha_linha**3*epsilon_linha + 4.26656995466045e-30*alpha_linha**2*epsilon_linha**6 - 7.78333112623339e-27*alpha_linha**2*epsilon_linha**5 - 6.06738270811726e-10*alpha_linha**2*epsilon_linha**4 - 2.03086797784415e-6*alpha_linha**2*epsilon_linha**3 + 0.000480370726049501*alpha_linha**2*epsilon_linha**2 + 4.4716520310171e-7*alpha_linha**2*epsilon_linha + 3.09299214691593e-11*alpha_linha**2 - 3.12594313903298e-31*alpha_linha*epsilon_linha**7 + 3.20096577436977e-28*alpha_linha*epsilon_linha**6 + 1.35548197789291e-10*alpha_linha*epsilon_linha**5 + 8.83212469388416e-8*alpha_linha*epsilon_linha**4 - 0.000202435222295708*alpha_linha*epsilon_linha**3 + 9.01087560302269e-6*alpha_linha*epsilon_linha**2 + 1.17452682112409e-9*alpha_linha*epsilon_linha - 2.97178917088682e-15*epsilon_linha**6 + 1.73935385113346e-8*epsilon_linha**5 + 2.13286182355601e-5*epsilon_linha**4 - 3.22484896127272e-7*epsilon_linha**3 + 0.000486247561649126*epsilon_linha**2 + 1.19389112787205e-7*epsilon_linha - 1.64987187439351e-11)),                                                                                                                                                                                                                                                                                                                                                                                                                                                                                                                                                                                                                                                                                                                                                                                                                                                                                                                                                                                                                                                                                                                                     0,                                                                                                                                                                                                                                                                                                                                                               0, 0],\n",
       "[                                                                                                                                                                                                                                                                                                                                                                                                                                                                                                                                                                                                                                                                                                                                                                                                                                                                                                                                                                                                                                                                                                                                                                                                                                                                                                                                                                                                                                                                                                                                                                                                                                                                                                                                                                                                                                                                                                                                                                                                                                                                                                                                                                                                                                                                                                                                                                                                                                                                                                                                                                                                                                                                                                                                                                                                                                                                                                                                                                                                                                                                                                                                                                                                                                                                                                                                                                                                                                                                                                                                                                                                                                                                                                                                                                                                                                                                                                                                                                                                                                                                                                                                                                                                                                                                                                                                                                                                                                                                                                                                                                                                                                                                                                                                                                                                                                                                                                                                                                                                                                                                                                                                                                                                                                                                                                                                                                                                                                                                                                                                                                                                                                                                                                                                                                                                                                                                                                                                                                                                                                                                                                                                                                                                                                                                                                                                                                                                                                                                                                                                                                                                                                                                                                                                                                                                                                                                                                                                                                                                                                                                                                                                                                                                                                                                                                                                                                                                                                                                                                                                                                                                                                                                                                                                                                                                                                                                                                                                                                                                                                                                                                                                                                                                                                                                                                                                                                                                                                                                                                                                                                                                                                                                                                                                                                                                                                                                                                                                  0,                                                                                                                                                                                                                                                                                                                                                                                                                                                                                                                                                                                                                                                                                                                                                                                                                                                                                                                                                                                                                                                                                                                                     0,                                                                                                                                                                                                                                                                                                                                                               0, 0],\n",
       "[                                                                                                                                                                                                                                                                                                                                                                                                                                                                                                                                                                                                                                                                                                                                                                                                                                                                                                                                                                                                                                                                                                                                                                                                                                                                                                                                                                                                                                                                                                                                                                                                                                                                                                                                                                                                                                                                                                                                                                                                                                                                                                                                                                                                                                                                                                                                                                                                                                                                                                                                                                                                                                                                                                                                                                                                                                                                                                                                                                                                                                                                                                                                                                                                                                                                                                                                                                                                                                                                                                                                                                                                                                                                                                                                                                                                                                                                                                                                                                                                                                                                                                                                                                                                                                                                                                                                                                                                                                                                                                                                                                                                                                                                                                                                                                                                                                                                                                                                                                                                                                                                                                                                                                                                                                                                                                                                                                                                                                                                                                                                                                                                                                                                                                                                                                                                                                                                                                                                                                                                                                                                                                                                                                                                                                                                                                                                                                                                                                                                                                                                                                                                                                                                                                                                                                                                                                                                                                                                                                                                                                                                                                                                                                                                                                                                                                                                                                                                                                                                                                                                                                                                                                                                                                                                                                                                                                                                                                                                                                                                                                                                                                                                                                                                                                                                                                                                                                                                                                                                                                                                                                                                                                                                                                                                                                                                                                                                                                                                nan,                                                                                                                                                                                                                                                                                                                                                                                                                                                                                                                                                                                                                                                                                                                                                                                                                                                                                                                                                                                                                                                                                                                                   nan,                                                                                                                                                                                                                                                                                                                                                             nan, 0]])"
      ]
     },
     "execution_count": 55,
     "metadata": {},
     "output_type": "execute_result"
    }
   ],
   "source": [
    "RHm = routh(p)\n",
    "RHm"
   ]
  },
  {
   "cell_type": "code",
   "execution_count": 56,
   "metadata": {},
   "outputs": [
    {
     "data": {
      "text/latex": [
       "$\\displaystyle \\left[\\begin{matrix}1.0 & 0.010387371086653 & -9.99896863739711 \\cdot 10^{-5} & 0\\\\0.0114400080012061 & 9.68449984174697 \\cdot 10^{-5} & 0 & 0\\\\0.00192190511781283 & -9.99896863739711 \\cdot 10^{-5} & 0 & 0\\\\0.000692026728022353 & 0 & 0 & 0\\\\-9.9989686373971 \\cdot 10^{-5} & 0 & 0 & 0\\\\0 & 0 & 0 & 0\\\\0 & 0 & 0 & 0\\end{matrix}\\right]$"
      ],
      "text/plain": [
       "Matrix([\n",
       "[                 1.0,    0.010387371086653, -9.99896863739711e-5, 0],\n",
       "[  0.0114400080012061,  9.68449984174697e-5,                    0, 0],\n",
       "[ 0.00192190511781283, -9.99896863739711e-5,                    0, 0],\n",
       "[0.000692026728022353,                    0,                    0, 0],\n",
       "[ -9.9989686373971e-5,                    0,                    0, 0],\n",
       "[                   0,                    0,                    0, 0],\n",
       "[                   0,                    0,                    0, 0]])"
      ]
     },
     "execution_count": 56,
     "metadata": {},
     "output_type": "execute_result"
    }
   ],
   "source": [
    "RHm.subs({sp.nan: 0, alpha_linha: 2*np.pi/180, epsilon_linha:-0.3275*np.pi/180})"
   ]
  },
  {
   "cell_type": "code",
   "execution_count": 57,
   "metadata": {},
   "outputs": [],
   "source": [
    "# Adicionando os valores de alpha_linha e epsilon_linha que melhor estabilizam o sistema aos parametros\n",
    "params[\"alpha_linha\"] = 2*np.pi/180\n",
    "params[\"epsilon_linha\"] = -0.3275*np.pi/180\n",
    "\n",
    "A_num = A.subs(params).evalf()\n",
    "B_num = B.subs(params).evalf()\n",
    "C_num = C.subs(params).evalf()\n",
    "D_num = D.subs(params).evalf()\n",
    "E_num = E.subs(params).evalf()\n",
    "p = sp.simplify(A_num.charpoly('s'))"
   ]
  },
  {
   "cell_type": "markdown",
   "metadata": {},
   "source": [
    "## Função de Transferência"
   ]
  },
  {
   "cell_type": "markdown",
   "metadata": {},
   "source": [
    "### Espaço de Estado"
   ]
  },
  {
   "cell_type": "code",
   "execution_count": 58,
   "metadata": {},
   "outputs": [
    {
     "data": {
      "text/latex": [
       "$$\n",
       "\\left(\\begin{array}{rllrllrllrllrllrll|rllrll}\n",
       "0\\phantom{.}&\\hspace{-1em}&\\hspace{-1em}\\phantom{\\cdot}&0\\phantom{.}&\\hspace{-1em}&\\hspace{-1em}\\phantom{\\cdot}&0\\phantom{.}&\\hspace{-1em}&\\hspace{-1em}\\phantom{\\cdot}&1\\phantom{.}&\\hspace{-1em}&\\hspace{-1em}\\phantom{\\cdot}&0\\phantom{.}&\\hspace{-1em}&\\hspace{-1em}\\phantom{\\cdot}&0\\phantom{.}&\\hspace{-1em}&\\hspace{-1em}\\phantom{\\cdot}&0\\phantom{.}&\\hspace{-1em}&\\hspace{-1em}\\phantom{\\cdot}&0\\phantom{.}&\\hspace{-1em}&\\hspace{-1em}\\phantom{\\cdot}\\\\\n",
       "0\\phantom{.}&\\hspace{-1em}&\\hspace{-1em}\\phantom{\\cdot}&0\\phantom{.}&\\hspace{-1em}&\\hspace{-1em}\\phantom{\\cdot}&0\\phantom{.}&\\hspace{-1em}&\\hspace{-1em}\\phantom{\\cdot}&0\\phantom{.}&\\hspace{-1em}&\\hspace{-1em}\\phantom{\\cdot}&1\\phantom{.}&\\hspace{-1em}&\\hspace{-1em}\\phantom{\\cdot}&0\\phantom{.}&\\hspace{-1em}&\\hspace{-1em}\\phantom{\\cdot}&0\\phantom{.}&\\hspace{-1em}&\\hspace{-1em}\\phantom{\\cdot}&0\\phantom{.}&\\hspace{-1em}&\\hspace{-1em}\\phantom{\\cdot}\\\\\n",
       "0\\phantom{.}&\\hspace{-1em}&\\hspace{-1em}\\phantom{\\cdot}&0\\phantom{.}&\\hspace{-1em}&\\hspace{-1em}\\phantom{\\cdot}&0\\phantom{.}&\\hspace{-1em}&\\hspace{-1em}\\phantom{\\cdot}&0\\phantom{.}&\\hspace{-1em}&\\hspace{-1em}\\phantom{\\cdot}&0\\phantom{.}&\\hspace{-1em}&\\hspace{-1em}\\phantom{\\cdot}&1\\phantom{.}&\\hspace{-1em}&\\hspace{-1em}\\phantom{\\cdot}&0\\phantom{.}&\\hspace{-1em}&\\hspace{-1em}\\phantom{\\cdot}&0\\phantom{.}&\\hspace{-1em}&\\hspace{-1em}\\phantom{\\cdot}\\\\\n",
       "-0.&\\hspace{-1em}0164&\\hspace{-1em}\\phantom{\\cdot}&0.&\\hspace{-1em}109&\\hspace{-1em}\\phantom{\\cdot}&5.&\\hspace{-1em}15&\\hspace{-1em}\\cdot10^{-5}&-0.&\\hspace{-1em}00405&\\hspace{-1em}\\phantom{\\cdot}&0\\phantom{.}&\\hspace{-1em}&\\hspace{-1em}\\phantom{\\cdot}&-0.&\\hspace{-1em}000144&\\hspace{-1em}\\phantom{\\cdot}&0.&\\hspace{-1em}615&\\hspace{-1em}\\phantom{\\cdot}&0.&\\hspace{-1em}615&\\hspace{-1em}\\phantom{\\cdot}\\\\\n",
       "0\\phantom{.}&\\hspace{-1em}&\\hspace{-1em}\\phantom{\\cdot}&0\\phantom{.}&\\hspace{-1em}&\\hspace{-1em}\\phantom{\\cdot}&0\\phantom{.}&\\hspace{-1em}&\\hspace{-1em}\\phantom{\\cdot}&0\\phantom{.}&\\hspace{-1em}&\\hspace{-1em}\\phantom{\\cdot}&0\\phantom{.}&\\hspace{-1em}&\\hspace{-1em}\\phantom{\\cdot}&0\\phantom{.}&\\hspace{-1em}&\\hspace{-1em}\\phantom{\\cdot}&-2.&\\hspace{-1em}99&\\hspace{-1em}\\phantom{\\cdot}&2.&\\hspace{-1em}99&\\hspace{-1em}\\phantom{\\cdot}\\\\\n",
       "0\\phantom{.}&\\hspace{-1em}&\\hspace{-1em}\\phantom{\\cdot}&3.&\\hspace{-1em}71&\\hspace{-1em}\\phantom{\\cdot}&0.&\\hspace{-1em}00608&\\hspace{-1em}\\phantom{\\cdot}&-0.&\\hspace{-1em}000133&\\hspace{-1em}\\phantom{\\cdot}&0\\phantom{.}&\\hspace{-1em}&\\hspace{-1em}\\phantom{\\cdot}&-0.&\\hspace{-1em}00739&\\hspace{-1em}\\phantom{\\cdot}&0\\phantom{.}&\\hspace{-1em}&\\hspace{-1em}\\phantom{\\cdot}&0\\phantom{.}&\\hspace{-1em}&\\hspace{-1em}\\phantom{\\cdot}\\\\\n",
       "\\hline\n",
       "1\\phantom{.}&\\hspace{-1em}&\\hspace{-1em}\\phantom{\\cdot}&0\\phantom{.}&\\hspace{-1em}&\\hspace{-1em}\\phantom{\\cdot}&0\\phantom{.}&\\hspace{-1em}&\\hspace{-1em}\\phantom{\\cdot}&0\\phantom{.}&\\hspace{-1em}&\\hspace{-1em}\\phantom{\\cdot}&0\\phantom{.}&\\hspace{-1em}&\\hspace{-1em}\\phantom{\\cdot}&0\\phantom{.}&\\hspace{-1em}&\\hspace{-1em}\\phantom{\\cdot}&0\\phantom{.}&\\hspace{-1em}&\\hspace{-1em}\\phantom{\\cdot}&0\\phantom{.}&\\hspace{-1em}&\\hspace{-1em}\\phantom{\\cdot}\\\\\n",
       "0\\phantom{.}&\\hspace{-1em}&\\hspace{-1em}\\phantom{\\cdot}&1\\phantom{.}&\\hspace{-1em}&\\hspace{-1em}\\phantom{\\cdot}&0\\phantom{.}&\\hspace{-1em}&\\hspace{-1em}\\phantom{\\cdot}&0\\phantom{.}&\\hspace{-1em}&\\hspace{-1em}\\phantom{\\cdot}&0\\phantom{.}&\\hspace{-1em}&\\hspace{-1em}\\phantom{\\cdot}&0\\phantom{.}&\\hspace{-1em}&\\hspace{-1em}\\phantom{\\cdot}&0\\phantom{.}&\\hspace{-1em}&\\hspace{-1em}\\phantom{\\cdot}&0\\phantom{.}&\\hspace{-1em}&\\hspace{-1em}\\phantom{\\cdot}\\\\\n",
       "0\\phantom{.}&\\hspace{-1em}&\\hspace{-1em}\\phantom{\\cdot}&0\\phantom{.}&\\hspace{-1em}&\\hspace{-1em}\\phantom{\\cdot}&1\\phantom{.}&\\hspace{-1em}&\\hspace{-1em}\\phantom{\\cdot}&0\\phantom{.}&\\hspace{-1em}&\\hspace{-1em}\\phantom{\\cdot}&0\\phantom{.}&\\hspace{-1em}&\\hspace{-1em}\\phantom{\\cdot}&0\\phantom{.}&\\hspace{-1em}&\\hspace{-1em}\\phantom{\\cdot}&0\\phantom{.}&\\hspace{-1em}&\\hspace{-1em}\\phantom{\\cdot}&0\\phantom{.}&\\hspace{-1em}&\\hspace{-1em}\\phantom{\\cdot}\\\\\n",
       "\\end{array}\\right)\n",
       "$$"
      ],
      "text/plain": [
       "StateSpace(array([[ 0.00000000e+00,  0.00000000e+00,  0.00000000e+00,\n",
       "         1.00000000e+00,  0.00000000e+00,  0.00000000e+00],\n",
       "       [ 0.00000000e+00,  0.00000000e+00,  0.00000000e+00,\n",
       "         0.00000000e+00,  1.00000000e+00,  0.00000000e+00],\n",
       "       [ 0.00000000e+00,  0.00000000e+00,  0.00000000e+00,\n",
       "         0.00000000e+00,  0.00000000e+00,  1.00000000e+00],\n",
       "       [-1.64396757e-02,  1.09368010e-01,  5.15082868e-05,\n",
       "        -4.05080743e-03,  0.00000000e+00, -1.44316150e-04],\n",
       "       [ 0.00000000e+00,  0.00000000e+00,  0.00000000e+00,\n",
       "         0.00000000e+00,  0.00000000e+00,  0.00000000e+00],\n",
       "       [ 0.00000000e+00,  3.70670158e+00,  6.08221769e-03,\n",
       "        -1.32600676e-04,  0.00000000e+00, -7.38920057e-03]]), array([[ 0.        ,  0.        ],\n",
       "       [ 0.        ,  0.        ],\n",
       "       [ 0.        ,  0.        ],\n",
       "       [ 0.61490616,  0.61490616],\n",
       "       [-2.99052497,  2.99052497],\n",
       "       [ 0.        ,  0.        ]]), array([[1., 0., 0., 0., 0., 0.],\n",
       "       [0., 1., 0., 0., 0., 0.],\n",
       "       [0., 0., 1., 0., 0., 0.]]), array([[0., 0.],\n",
       "       [0., 0.],\n",
       "       [0., 0.]]))"
      ]
     },
     "execution_count": 58,
     "metadata": {},
     "output_type": "execute_result"
    }
   ],
   "source": [
    "heli = ct.ss(np.array(A_num), np.array(B_num), np.array(C_num), np.array(D_num))\n",
    "heli"
   ]
  },
  {
   "cell_type": "markdown",
   "metadata": {},
   "source": [
    "### FT e Polos"
   ]
  },
  {
   "cell_type": "code",
   "execution_count": 59,
   "metadata": {},
   "outputs": [
    {
     "ename": "ControlMIMONotImplemented",
     "evalue": "Not implemented for MIMO systems without slycot.",
     "output_type": "error",
     "traceback": [
      "\u001b[31m---------------------------------------------------------------------------\u001b[39m",
      "\u001b[31mModuleNotFoundError\u001b[39m                       Traceback (most recent call last)",
      "\u001b[36mFile \u001b[39m\u001b[32m~\\AppData\\Local\\Packages\\PythonSoftwareFoundation.Python.3.11_qbz5n2kfra8p0\\LocalCache\\local-packages\\Python311\\site-packages\\control\\xferfcn.py:1492\u001b[39m, in \u001b[36m_convert_to_transfer_function\u001b[39m\u001b[34m(sys, inputs, outputs, use_prefix_suffix)\u001b[39m\n\u001b[32m   1489\u001b[39m \u001b[38;5;28;01mtry\u001b[39;00m:\n\u001b[32m   1490\u001b[39m     \u001b[38;5;66;03m# Use Slycot to make the transformation\u001b[39;00m\n\u001b[32m   1491\u001b[39m     \u001b[38;5;66;03m# Make sure to convert system matrices to numpy arrays\u001b[39;00m\n\u001b[32m-> \u001b[39m\u001b[32m1492\u001b[39m     \u001b[38;5;28;01mfrom\u001b[39;00m\u001b[38;5;250m \u001b[39m\u001b[34;01mslycot\u001b[39;00m\u001b[38;5;250m \u001b[39m\u001b[38;5;28;01mimport\u001b[39;00m tb04ad\n\u001b[32m   1493\u001b[39m     tfout = tb04ad(\n\u001b[32m   1494\u001b[39m         sys.nstates, sys.ninputs, sys.noutputs, array(sys.A),\n\u001b[32m   1495\u001b[39m         array(sys.B), array(sys.C), array(sys.D), tol1=\u001b[32m0.0\u001b[39m)\n",
      "\u001b[31mModuleNotFoundError\u001b[39m: No module named 'slycot'",
      "\nDuring handling of the above exception, another exception occurred:\n",
      "\u001b[31mControlMIMONotImplemented\u001b[39m                 Traceback (most recent call last)",
      "\u001b[36mCell\u001b[39m\u001b[36m \u001b[39m\u001b[32mIn[59]\u001b[39m\u001b[32m, line 1\u001b[39m\n\u001b[32m----> \u001b[39m\u001b[32m1\u001b[39m G = \u001b[43mct\u001b[49m\u001b[43m.\u001b[49m\u001b[43mss2tf\u001b[49m\u001b[43m(\u001b[49m\u001b[43mheli\u001b[49m\u001b[43m)\u001b[49m\n\u001b[32m      2\u001b[39m G\n",
      "\u001b[36mFile \u001b[39m\u001b[32m~\\AppData\\Local\\Packages\\PythonSoftwareFoundation.Python.3.11_qbz5n2kfra8p0\\LocalCache\\local-packages\\Python311\\site-packages\\control\\xferfcn.py:1827\u001b[39m, in \u001b[36mss2tf\u001b[39m\u001b[34m(*args, **kwargs)\u001b[39m\n\u001b[32m   1824\u001b[39m     \u001b[38;5;28;01mif\u001b[39;00m \u001b[38;5;129;01mnot\u001b[39;00m kwargs.get(\u001b[33m'\u001b[39m\u001b[33moutputs\u001b[39m\u001b[33m'\u001b[39m):\n\u001b[32m   1825\u001b[39m         kwargs[\u001b[33m'\u001b[39m\u001b[33moutputs\u001b[39m\u001b[33m'\u001b[39m] = sys.output_labels\n\u001b[32m   1826\u001b[39m     \u001b[38;5;28;01mreturn\u001b[39;00m TransferFunction(\n\u001b[32m-> \u001b[39m\u001b[32m1827\u001b[39m         \u001b[43m_convert_to_transfer_function\u001b[49m\u001b[43m(\u001b[49m\n\u001b[32m   1828\u001b[39m \u001b[43m            \u001b[49m\u001b[43msys\u001b[49m\u001b[43m,\u001b[49m\u001b[43m \u001b[49m\u001b[43muse_prefix_suffix\u001b[49m\u001b[43m=\u001b[49m\u001b[38;5;129;43;01mnot\u001b[39;49;00m\u001b[43m \u001b[49m\u001b[43msys\u001b[49m\u001b[43m.\u001b[49m\u001b[43m_generic_name_check\u001b[49m\u001b[43m(\u001b[49m\u001b[43m)\u001b[49m\u001b[43m)\u001b[49m,\n\u001b[32m   1829\u001b[39m         **kwargs)\n\u001b[32m   1830\u001b[39m \u001b[38;5;28;01melse\u001b[39;00m:\n\u001b[32m   1831\u001b[39m     \u001b[38;5;28;01mraise\u001b[39;00m \u001b[38;5;167;01mTypeError\u001b[39;00m(\n\u001b[32m   1832\u001b[39m         \u001b[33m\"\u001b[39m\u001b[33mss2tf(sys): sys must be a StateSpace object.  It is \u001b[39m\u001b[38;5;132;01m%s\u001b[39;00m\u001b[33m.\u001b[39m\u001b[33m\"\u001b[39m\n\u001b[32m   1833\u001b[39m         % \u001b[38;5;28mtype\u001b[39m(sys))\n",
      "\u001b[36mFile \u001b[39m\u001b[32m~\\AppData\\Local\\Packages\\PythonSoftwareFoundation.Python.3.11_qbz5n2kfra8p0\\LocalCache\\local-packages\\Python311\\site-packages\\control\\xferfcn.py:1513\u001b[39m, in \u001b[36m_convert_to_transfer_function\u001b[39m\u001b[34m(sys, inputs, outputs, use_prefix_suffix)\u001b[39m\n\u001b[32m   1510\u001b[39m \u001b[38;5;28;01mexcept\u001b[39;00m \u001b[38;5;167;01mImportError\u001b[39;00m:\n\u001b[32m   1511\u001b[39m     \u001b[38;5;66;03m# If slycot is not available, use signal.lti (SISO only)\u001b[39;00m\n\u001b[32m   1512\u001b[39m     \u001b[38;5;28;01mif\u001b[39;00m sys.ninputs != \u001b[32m1\u001b[39m \u001b[38;5;129;01mor\u001b[39;00m sys.noutputs != \u001b[32m1\u001b[39m:\n\u001b[32m-> \u001b[39m\u001b[32m1513\u001b[39m         \u001b[38;5;28;01mraise\u001b[39;00m ControlMIMONotImplemented(\u001b[33m\"\u001b[39m\u001b[33mNot implemented for \u001b[39m\u001b[33m\"\u001b[39m +\n\u001b[32m   1514\u001b[39m             \u001b[33m\"\u001b[39m\u001b[33mMIMO systems without slycot.\u001b[39m\u001b[33m\"\u001b[39m)\n\u001b[32m   1516\u001b[39m     \u001b[38;5;66;03m# Do the conversion using sp.signal.ss2tf\u001b[39;00m\n\u001b[32m   1517\u001b[39m     \u001b[38;5;66;03m# Note that this returns a 2D array for the numerator\u001b[39;00m\n\u001b[32m   1518\u001b[39m     num, den = sp.signal.ss2tf(sys.A, sys.B, sys.C, sys.D)\n",
      "\u001b[31mControlMIMONotImplemented\u001b[39m: Not implemented for MIMO systems without slycot."
     ]
    }
   ],
   "source": [
    "G = ct.ss2tf(heli)\n",
    "G"
   ]
  },
  {
   "cell_type": "code",
   "execution_count": null,
   "metadata": {},
   "outputs": [],
   "source": [
    "poles_MA = ct.poles(heli)\n",
    "display(Latex(f'${sp.latex(sp.Matrix(poles_MA))}$'))"
   ]
  },
  {
   "cell_type": "code",
   "execution_count": null,
   "metadata": {},
   "outputs": [],
   "source": [
    "fig, ax = plt.subplots(figsize=(8,6))\n",
    "\n",
    "# Polos: como 'x'\n",
    "ax.scatter(poles_MA.real, poles_MA.imag, marker='x', color='red', label='Polos MA')\n",
    "\n",
    "\n",
    "ax.set_xlabel('Parte Real')\n",
    "ax.set_ylabel('Parte Imaginária')\n",
    "ax.set_title('Mapa de Polos - Malha Aberta')\n",
    "ax.grid(False)\n",
    "ax.axhline(0, color='lightgrey', linestyle='-', linewidth=1.5)\n",
    "ax.axvline(0, color='lightgrey', linestyle='-', linewidth=1.5)\n",
    "ax.legend()\n",
    "plt.show()"
   ]
  },
  {
   "cell_type": "markdown",
   "metadata": {},
   "source": [
    "### Resposta em frequência"
   ]
  },
  {
   "cell_type": "code",
   "execution_count": null,
   "metadata": {},
   "outputs": [],
   "source": [
    "# Dicionário de saídas\n",
    "saidas = [\n",
    "    (0, 'x₁', cp['red']),\n",
    "    (1, 'x₂', cp['blue']),\n",
    "    (2, 'x₃', cp['green']),\n",
    "]\n",
    "\n",
    "# Frequência comum\n",
    "omega = None  # será definida na 1ª chamada\n",
    "\n",
    "# Função para plotar para uma entrada\n",
    "def plot_bode_entrada(j, titulo_entrada):\n",
    "    global omega\n",
    "\n",
    "    fig_mag, ax_mag = plt.subplots(figsize=(10, 4))\n",
    "    fig_phase, ax_phase = plt.subplots(figsize=(10, 4))\n",
    "\n",
    "    for i, saida_label, color in saidas:\n",
    "        mag, phase, omega = ct.bode_plot(G[i, j], dB=True, Hz=True, omega=omega, plot=False)\n",
    "        freq = omega / (2 * np.pi)\n",
    "\n",
    "        ax_mag.semilogx(freq, 20 * np.log10(mag), label=f'{titulo_entrada} → {saida_label}', color=color)\n",
    "        ax_phase.semilogx(freq, phase * 180 / np.pi, label=f'{titulo_entrada} → {saida_label}', color=color)\n",
    "\n",
    "    # Magnitude\n",
    "    ax_mag.set_title(f'Magnitude (entrada {titulo_entrada})')\n",
    "    ax_mag.set_xlabel('Frequência (Hz)')\n",
    "    ax_mag.set_ylabel('Magnitude (dB)')\n",
    "    ax_mag.grid(True, which='both')\n",
    "    ax_mag.legend()\n",
    "\n",
    "    # Fase\n",
    "    ax_phase.set_title(f'Fase (entrada {titulo_entrada})')\n",
    "    ax_phase.set_xlabel('Frequência (Hz)')\n",
    "    ax_phase.set_ylabel('Fase (°)')\n",
    "    ax_phase.grid(True, which='both')\n",
    "    ax_phase.legend()\n",
    "\n",
    "    plt.tight_layout()\n",
    "    plt.show()\n",
    "\n",
    "# Plot para u1 (coluna j=0) e u2 (coluna j=1)\n",
    "plot_bode_entrada(0, 'u₁')\n",
    "plot_bode_entrada(1, 'u₂')\n"
   ]
  },
  {
   "cell_type": "markdown",
   "metadata": {},
   "source": [
    "## Controlabilidade e Observabilidade"
   ]
  },
  {
   "cell_type": "code",
   "execution_count": null,
   "metadata": {},
   "outputs": [],
   "source": [
    "# Matriz de controlabilidade\n",
    "Q = ct.ctrb(A_num, B_num)\n",
    "sp.Matrix(Q)"
   ]
  },
  {
   "cell_type": "code",
   "execution_count": null,
   "metadata": {},
   "outputs": [],
   "source": [
    "print(\"O sistema é controlável?\", sp.Matrix(Q).rank()==n)"
   ]
  },
  {
   "cell_type": "code",
   "execution_count": null,
   "metadata": {},
   "outputs": [],
   "source": [
    "# Matriz de observabilidade\n",
    "N = ct.obsv(A_num, C_num)\n",
    "sp.Matrix(N)"
   ]
  },
  {
   "cell_type": "code",
   "execution_count": null,
   "metadata": {},
   "outputs": [],
   "source": [
    "print(\"O sistema é observável?\", sp.Matrix(N).rank()==n)"
   ]
  },
  {
   "cell_type": "markdown",
   "metadata": {},
   "source": [
    "## Regulador linear-quadrático (LQR)"
   ]
  },
  {
   "cell_type": "code",
   "execution_count": null,
   "metadata": {},
   "outputs": [],
   "source": [
    "omega_f = (poles_MA[0].real**2 + poles_MA[0].imag**2)**0.5"
   ]
  },
  {
   "cell_type": "code",
   "execution_count": null,
   "metadata": {},
   "outputs": [],
   "source": [
    "# Matriz de ponderação Q - penaliza desvios dos estados\n",
    "Q = np.diag([5, 20, 1, 5/(omega_f**2), 20/(omega_f**2), 1/(omega_f**2)])\n",
    "\n",
    "# Matriz de ponderação R - penaliza esforço de controle\n",
    "R = np.diag([10**4, 10**4])\n",
    "\n",
    "# Síntese do regulador LQR\n",
    "K_LQR, P_LQR, poles_LQR_MF = ct.lqr(np.array(A_num).astype(np.float64), np.array(B_num).astype(np.float64), Q, R)\n",
    "\n",
    "# Sistema em malha fechada\n",
    "A_LQR = np.array(A_num).astype(np.float64) - np.array(B_num).astype(np.float64) @ K_LQR\n",
    "N_ff = -np.linalg.inv(np.array(C_num).astype(np.float64) @ np.linalg.inv(A_LQR) @ np.array(B_num).astype(np.float64))\n",
    "heli_LQR_MF = ct.ss(A_LQR_MF, E_num,-K_LQR, sp.zeros(K_LQR.shape[0],E_num.shape[1]))\n",
    "G_LQR_MF = ct.ss2tf(heli_LQR_MF)"
   ]
  },
  {
   "cell_type": "code",
   "execution_count": null,
   "metadata": {},
   "outputs": [],
   "source": [
    "display(Latex(f'$Q = {sp.latex(sp.Matrix(Q))}$'))\n",
    "display(Latex(f'$R = {sp.latex(sp.Matrix(R))}$'))\n",
    "display(Latex(f'$K = {sp.latex(sp.Matrix(K_LQR))}$'))"
   ]
  },
  {
   "cell_type": "markdown",
   "metadata": {},
   "source": [
    "### Comparação de Polos"
   ]
  },
  {
   "cell_type": "code",
   "execution_count": null,
   "metadata": {},
   "outputs": [],
   "source": [
    "poles_LQR_MF = ct.poles(heli_LQR_MF)\n",
    "\n",
    "# Garantir mesmo tamanho com preenchimento de NaN\n",
    "max_poles = max(len(poles_MA), len(poles_LQR_MF))\n",
    "\n",
    "# Criar DataFrame\n",
    "df_poles = pd.DataFrame({\n",
    "    'Polos MA': np.pad(poles_MA, (0, max_poles - len(poles_MA)), constant_values=np.nan),\n",
    "    'Polos MF': np.pad(poles_LQR_MF, (0, max_poles - len(poles_LQR_MF)), constant_values=np.nan)\n",
    "})\n",
    "\n",
    "# Exibir tabelas\n",
    "display(df_poles)"
   ]
  },
  {
   "cell_type": "code",
   "execution_count": null,
   "metadata": {},
   "outputs": [],
   "source": [
    "fig, ax = plt.subplots(figsize=(8,6))\n",
    "\n",
    "# Polos: como 'x'\n",
    "ax.scatter(poles_MA.real, poles_MA.imag, marker='x', color='red', label='Polos MA')\n",
    "ax.scatter(poles_LQR_MF.real, poles_LQR_MF.imag, marker='x', color='blue', label='Polos MF - LQR')\n",
    "\n",
    "\n",
    "ax.set_xlabel('Parte Real')\n",
    "ax.set_ylabel('Parte Imaginária')\n",
    "ax.set_title('Mapa de Polos - Malha Aberta e Malha Fechada')\n",
    "ax.grid(False)\n",
    "ax.axhline(0, color='lightgrey', linestyle='-', linewidth=1.5)\n",
    "ax.axvline(0, color='lightgrey', linestyle='-', linewidth=1.5)\n",
    "ax.legend()\n",
    "plt.show()"
   ]
  },
  {
   "cell_type": "markdown",
   "metadata": {},
   "source": [
    "### Resposta em frequência"
   ]
  },
  {
   "cell_type": "code",
   "execution_count": null,
   "metadata": {},
   "outputs": [],
   "source": [
    "# Dicionário de saídas\n",
    "saidas = [\n",
    "    (0, 'u₁', cp['red']),\n",
    "    (1, 'u₂', cp['blue']),\n",
    "]\n",
    "\n",
    "# Frequência comum\n",
    "omega = None  # será definida na 1ª chamada\n",
    "\n",
    "# Função para plotar para uma entrada\n",
    "def plot_bode_entrada(j, titulo_entrada):\n",
    "    global omega\n",
    "\n",
    "    fig_mag, ax_mag = plt.subplots(figsize=(10, 4))\n",
    "    fig_phase, ax_phase = plt.subplots(figsize=(10, 4))\n",
    "\n",
    "    for i, saida_label, color in saidas:\n",
    "        mag, phase, omega = ct.bode_plot(G_LQR_MF[i, j], dB=True, Hz=True, omega=omega, plot=False)\n",
    "        freq = omega / (2 * np.pi)\n",
    "\n",
    "        ax_mag.semilogx(freq, 20 * np.log10(mag), label=f'{titulo_entrada} → {saida_label}', color=color)\n",
    "        ax_phase.semilogx(freq, phase * 180 / np.pi, label=f'{titulo_entrada} → {saida_label}', color=color)\n",
    "\n",
    "    # Magnitude\n",
    "    ax_mag.set_title(f'Magnitude (perturbação {titulo_entrada})')\n",
    "    ax_mag.set_xlabel('Frequência (Hz)')\n",
    "    ax_mag.set_ylabel('Magnitude (dB)')\n",
    "    ax_mag.grid(True, which='both')\n",
    "    ax_mag.legend()\n",
    "\n",
    "    # Fase\n",
    "    ax_phase.set_title(f'Fase (perturbação {titulo_entrada})')\n",
    "    ax_phase.set_xlabel('Frequência (Hz)')\n",
    "    ax_phase.set_ylabel('Fase (°)')\n",
    "    ax_phase.grid(True, which='both')\n",
    "    ax_phase.legend()\n",
    "\n",
    "    plt.tight_layout()\n",
    "    plt.show()\n",
    "\n",
    "# Plot para u1 (coluna j=0) e u2 (coluna j=1)\n",
    "plot_bode_entrada(0, 'w₁')\n",
    "plot_bode_entrada(1, 'w₂')\n",
    "plot_bode_entrada(2, 'w3')"
   ]
  },
  {
   "cell_type": "markdown",
   "metadata": {},
   "source": [
    "### Simulação de resposta livre do sistema controlado"
   ]
  },
  {
   "cell_type": "code",
   "execution_count": null,
   "metadata": {},
   "outputs": [],
   "source": [
    "ts = np.linspace(0, 50, 1001)\n",
    "w = np.zeros((E_num.shape[1], len(ts)))\n",
    "x0 = [2*np.pi/180, np.pi/180, 7*np.pi/180, 0, 0, 0] ## ALTERÁVEL\n",
    "t_livre, y_livre, x_livre = ct.forced_response(heli_LQR_MF, T=ts, X0=x0, return_x=True)\n",
    "\n",
    "plt.figure(figsize=(12, 5))\n",
    "for i in range(x.shape[0]):\n",
    "    plt.plot(t_livre, x_livre[i, :], label=f\"$x_{i+1}(t)$\")\n",
    "plt.title(f\"Resposta Livre - Estados (LQR)\")\n",
    "plt.xlabel(\"Tempo [s]\")\n",
    "plt.grid(True)\n",
    "plt.legend()\n",
    "plt.tight_layout()\n",
    "plt.show()\n",
    "\n",
    "plt.figure(figsize=(10, 4))\n",
    "for i in range(y_livre.shape[0]):\n",
    "    plt.plot(t_livre, y_livre[i, :], label=f\"$u_{i+1}(t)$\")\n",
    "plt.title(f\"Resposta Livre - Entradas de controle (LQR)\")\n",
    "plt.xlabel(\"Tempo [s]\")\n",
    "plt.grid(True)\n",
    "plt.legend()\n",
    "plt.tight_layout()\n",
    "plt.show()"
   ]
  },
  {
   "cell_type": "markdown",
   "metadata": {},
   "source": [
    "### Simulação de resposta a perturbação de impulso em sistema controlado"
   ]
  },
  {
   "cell_type": "code",
   "execution_count": null,
   "metadata": {},
   "outputs": [],
   "source": [
    "ts = np.linspace(0, 60, 1001)\n",
    "x0 = np.zeros(6)\n",
    "\n",
    "w_impulse = np.zeros((E_num.shape[1], len(ts)))\n",
    "w_impulse[0, 0] = 1 / (ts[1] - ts[0])  # impulso aproximado como valor alto no primeiro passo\n",
    "\n",
    "# Simulação com perturbação\n",
    "t_imp, y_imp, x_imp = ct.forced_response(heli_LQR_MF, T=ts, U=w_impulse, X0=x0, return_x=True)\n",
    "\n",
    "# Plot dos estados\n",
    "plt.figure(figsize=(12, 5))\n",
    "for i in range(x_imp.shape[0]):\n",
    "    plt.plot(t_imp, x_imp[i, :], label=f\"$x_{i+1}(t)$\")\n",
    "plt.title(\"Resposta a uma perturbação tipo impulso - Estados (LQR)\")\n",
    "plt.xlabel(\"Tempo [s]\")\n",
    "plt.grid(True)\n",
    "plt.legend()\n",
    "plt.tight_layout()\n",
    "plt.show()\n",
    "\n",
    "# Plot das entradas de controle\n",
    "plt.figure(figsize=(10, 4))\n",
    "for i in range(y_imp.shape[0]):\n",
    "    plt.plot(t_imp, y_imp[i, :], label=f\"$u_{i+1}(t)$\")\n",
    "plt.title(\"Resposta a uma perturbação tipo impulso - Entradas de controle (LQR)\")\n",
    "plt.xlabel(\"Tempo [s]\")\n",
    "plt.grid(True)\n",
    "plt.legend()\n",
    "plt.tight_layout()\n",
    "plt.show()"
   ]
  },
  {
   "cell_type": "markdown",
   "metadata": {},
   "source": [
    "## Regulador por alocação de polos"
   ]
  },
  {
   "cell_type": "markdown",
   "metadata": {},
   "source": [
    "Os polos serão alocados em:\n",
    "* $s_1 = - 0.8$,\n",
    "* $s_2 = - 0.12$ \n",
    "* $s_3 = - 0.4 + 0.2j$,\n",
    "* $s_4 = - 0.4 - 0.2j$\n",
    "* $s_5 = - 0.1 + 0.1j$,\n",
    "* $s_6 = - 0.1 - 0.1j$."
   ]
  },
  {
   "cell_type": "code",
   "execution_count": null,
   "metadata": {},
   "outputs": [],
   "source": [
    "# Polinômio característico do sistema\n",
    "p_aloc = sp.PurePoly((s+0.8)*(s+0.12)*((s + 0.4)**2 + 0.2**2)*((s + 0.1)**2 + 0.1**2), s)\n",
    "p_aloc"
   ]
  },
  {
   "cell_type": "code",
   "execution_count": null,
   "metadata": {},
   "outputs": [],
   "source": [
    "# Polos alocados do sistema em MF\n",
    "poles_aloc_MF = np.roots(p_aloc.all_coeffs())\n",
    "\n",
    "# Síntese do regulador por alocação de polos\n",
    "K_aloc = place_poles(np.array(A_num).astype(np.float64), np.array(B_num).astype(np.float64), poles_aloc_MF).gain_matrix\n",
    "\n",
    "# Sistema em malha fechada\n",
    "A_aloc_MF = np.array(A_num).astype(np.float64) - np.array(B_num).astype(np.float64) @ K_aloc\n",
    "heli_aloc_MF = ct.ss(A_aloc_MF, E_num,-K_aloc, sp.zeros(K_aloc.shape[0],E_num.shape[1]))\n",
    "G_aloc_MF = ct.ss2tf(heli_aloc_MF)"
   ]
  },
  {
   "cell_type": "code",
   "execution_count": null,
   "metadata": {},
   "outputs": [],
   "source": [
    "display(Latex(f'$K = {sp.latex(sp.Matrix(K_aloc))}$'))"
   ]
  },
  {
   "cell_type": "markdown",
   "metadata": {},
   "source": [
    "### Comparação de Polos"
   ]
  },
  {
   "cell_type": "code",
   "execution_count": null,
   "metadata": {},
   "outputs": [],
   "source": [
    "poles_aloc_MF = ct.poles(heli_aloc_MF)\n",
    "\n",
    "# Garantir mesmo tamanho com preenchimento de NaN\n",
    "max_poles = max(len(poles_MA), len(poles_aloc_MF))\n",
    "\n",
    "# Criar DataFrame\n",
    "df_poles = pd.DataFrame({\n",
    "    'Polos MA': np.pad(poles_MA, (0, max_poles - len(poles_MA)), constant_values=np.nan),\n",
    "    'Polos MF': np.pad(poles_aloc_MF, (0, max_poles - len(poles_aloc_MF)), constant_values=np.nan)\n",
    "})\n",
    "\n",
    "# Exibir tabelas\n",
    "display(df_poles)"
   ]
  },
  {
   "cell_type": "code",
   "execution_count": null,
   "metadata": {},
   "outputs": [],
   "source": [
    "fig, ax = plt.subplots(figsize=(8,6))\n",
    "\n",
    "# Polos: como 'x'\n",
    "ax.scatter(poles_MA.real, poles_MA.imag, marker='x', color='red', label='Polos MA')\n",
    "ax.scatter(poles_aloc_MF.real, poles_aloc_MF.imag, marker='x', color='blue', label='Polos MF - Alocação')\n",
    "\n",
    "\n",
    "ax.set_xlabel('Parte Real')\n",
    "ax.set_ylabel('Parte Imaginária')\n",
    "ax.set_title('Mapa de Polos - Malha Aberta e Malha Fechada')\n",
    "ax.grid(False)\n",
    "ax.axhline(0, color='lightgrey', linestyle='-', linewidth=1.5)\n",
    "ax.axvline(0, color='lightgrey', linestyle='-', linewidth=1.5)\n",
    "ax.legend()\n",
    "plt.show()"
   ]
  },
  {
   "cell_type": "markdown",
   "metadata": {},
   "source": [
    "### Resposta em frequência"
   ]
  },
  {
   "cell_type": "code",
   "execution_count": null,
   "metadata": {},
   "outputs": [],
   "source": [
    "# Dicionário de saídas\n",
    "saidas = [\n",
    "    (0, 'u₁', cp['red']),\n",
    "    (1, 'u₂', cp['blue']),\n",
    "]\n",
    "\n",
    "# Frequência comum\n",
    "omega = None  # será definida na 1ª chamada\n",
    "\n",
    "# Função para plotar para uma entrada\n",
    "def plot_bode_entrada(j, titulo_entrada):\n",
    "    global omega\n",
    "\n",
    "    fig_mag, ax_mag = plt.subplots(figsize=(10, 4))\n",
    "    fig_phase, ax_phase = plt.subplots(figsize=(10, 4))\n",
    "\n",
    "    for i, saida_label, color in saidas:\n",
    "        mag, phase, omega = ct.bode_plot(G_aloc_MF[i, j], dB=True, Hz=True, omega=omega, plot=False)\n",
    "        freq = omega / (2 * np.pi)\n",
    "\n",
    "        ax_mag.semilogx(freq, 20 * np.log10(mag), label=f'{titulo_entrada} → {saida_label}', color=color)\n",
    "        ax_phase.semilogx(freq, phase * 180 / np.pi, label=f'{titulo_entrada} → {saida_label}', color=color)\n",
    "\n",
    "    # Magnitude\n",
    "    ax_mag.set_title(f'Magnitude (perturbação {titulo_entrada})')\n",
    "    ax_mag.set_xlabel('Frequência (Hz)')\n",
    "    ax_mag.set_ylabel('Magnitude (dB)')\n",
    "    ax_mag.grid(True, which='both')\n",
    "    ax_mag.legend()\n",
    "\n",
    "    # Fase\n",
    "    ax_phase.set_title(f'Fase (perturbação {titulo_entrada})')\n",
    "    ax_phase.set_xlabel('Frequência (Hz)')\n",
    "    ax_phase.set_ylabel('Fase (°)')\n",
    "    ax_phase.grid(True, which='both')\n",
    "    ax_phase.legend()\n",
    "\n",
    "    plt.tight_layout()\n",
    "    plt.show()\n",
    "\n",
    "# Plot para u1 (coluna j=0) e u2 (coluna j=1)\n",
    "plot_bode_entrada(0, 'w₁')\n",
    "plot_bode_entrada(1, 'w₂')\n",
    "plot_bode_entrada(2, 'w3')"
   ]
  },
  {
   "cell_type": "markdown",
   "metadata": {},
   "source": [
    "### Simulação de resposta livre do sistema controlado"
   ]
  },
  {
   "cell_type": "code",
   "execution_count": null,
   "metadata": {},
   "outputs": [],
   "source": [
    "ts = np.linspace(0, 60, 1001)\n",
    "w = np.zeros((E_num.shape[1], len(ts)))\n",
    "x0 = [2*np.pi/180, np.pi/180, 7*np.pi/180, 0, 0, 0] ## ALTERÁVEL\n",
    "t_livre, y_livre, x_livre = ct.forced_response(heli_aloc_MF, T=ts, X0=x0, return_x=True)\n",
    "\n",
    "plt.figure(figsize=(12, 5))\n",
    "for i in range(x.shape[0]):\n",
    "    plt.plot(t_livre, x_livre[i, :], label=f\"$x_{i+1}(t)$\")\n",
    "plt.title(f\"Resposta Livre - Estados (Alocação)\")\n",
    "plt.xlabel(\"Tempo [s]\")\n",
    "plt.grid(True)\n",
    "plt.legend()\n",
    "plt.tight_layout()\n",
    "plt.show()\n",
    "\n",
    "plt.figure(figsize=(10, 4))\n",
    "for i in range(y_livre.shape[0]):\n",
    "    plt.plot(t_livre, y_livre[i, :], label=f\"$u_{i+1}(t)$\")\n",
    "plt.title(f\"Resposta Livre - Entradas de controle (Alocação)\")\n",
    "plt.xlabel(\"Tempo [s]\")\n",
    "plt.grid(True)\n",
    "plt.legend()\n",
    "plt.tight_layout()\n",
    "plt.show()"
   ]
  },
  {
   "cell_type": "markdown",
   "metadata": {},
   "source": [
    "### Simulação de resposta a perturbação de impulso em sistema controlado"
   ]
  },
  {
   "cell_type": "code",
   "execution_count": null,
   "metadata": {},
   "outputs": [],
   "source": [
    "ts = np.linspace(0, 60, 1001)\n",
    "x0 = np.zeros(6)\n",
    "\n",
    "w_impulse = np.zeros((E_num.shape[1], len(ts)))\n",
    "w_impulse[0, 0] = 1 / (ts[1] - ts[0])  # impulso aproximado como valor alto no primeiro passo\n",
    "\n",
    "# Simulação com perturbação\n",
    "t_imp, y_imp, x_imp = ct.forced_response(heli_aloc_MF, T=ts, U=w_impulse, X0=x0, return_x=True)\n",
    "\n",
    "# Plot dos estados\n",
    "plt.figure(figsize=(12, 5))\n",
    "for i in range(x_imp.shape[0]):\n",
    "    plt.plot(t_imp, x_imp[i, :], label=f\"$x_{i+1}(t)$\")\n",
    "plt.title(\"Resposta a uma perturbação tipo impulso - Estados (Alocação)\")\n",
    "plt.xlabel(\"Tempo [s]\")\n",
    "plt.grid(True)\n",
    "plt.legend()\n",
    "plt.tight_layout()\n",
    "plt.show()\n",
    "\n",
    "# Plot das entradas de controle\n",
    "plt.figure(figsize=(10, 4))\n",
    "for i in range(y_imp.shape[0]):\n",
    "    plt.plot(t_imp, y_imp[i, :], label=f\"$u_{i+1}(t)$\")\n",
    "plt.title(\"Resposta a uma perturbação tipo impulso - Entradas de controle (Alocação)\")\n",
    "plt.xlabel(\"Tempo [s]\")\n",
    "plt.grid(True)\n",
    "plt.legend()\n",
    "plt.tight_layout()\n",
    "plt.show()"
   ]
  },
  {
   "cell_type": "markdown",
   "metadata": {},
   "source": [
    "## Observador de Estados de Ordem Reduzida"
   ]
  },
  {
   "cell_type": "markdown",
   "metadata": {},
   "source": [
    "Como o controlador LQR (por alocação de polos) é mais adequado"
   ]
  },
  {
   "cell_type": "code",
   "execution_count": null,
   "metadata": {},
   "outputs": [],
   "source": [
    "K = K_LQR\n",
    "poles_cont = poles_LQR_MF\n",
    "A_cont = A_LQR_MF"
   ]
  },
  {
   "cell_type": "code",
   "execution_count": null,
   "metadata": {},
   "outputs": [],
   "source": [
    "C_num.rank() == m"
   ]
  },
  {
   "cell_type": "code",
   "execution_count": null,
   "metadata": {},
   "outputs": [],
   "source": [
    "# Matrizes auxiliares da transformação de variáveis\n",
    "V = la.null_space(np.array(C_num).astype(np.float64), rcond=1e-10).T\n",
    "T = np.block([[np.array(C_num).astype(np.float64)], [V]])\n",
    "Ti = la.inv(T)\n",
    "M = Ti[:, 0:m]\n",
    "N = Ti[:, m:]\n",
    "A11 = np.array(C_num).astype(np.float64) @ np.array(A_num).astype(np.float64) @ M\n",
    "A12 = np.array(C_num).astype(np.float64) @ np.array(A_num).astype(np.float64) @ N\n",
    "A21 = V @ np.array(A_num).astype(np.float64) @ M\n",
    "A22 = V @ np.array(A_num).astype(np.float64) @ N\n",
    "B1 = np.array(C_num).astype(np.float64) @ np.array(B_num).astype(np.float64)\n",
    "B2 = V @ np.array(B_num).astype(np.float64)"
   ]
  },
  {
   "cell_type": "code",
   "execution_count": null,
   "metadata": {},
   "outputs": [],
   "source": [
    "# Teste de observabilidade\n",
    "np.linalg.matrix_rank(ct.obsv(A22, A12)) == A22.shape[0]"
   ]
  },
  {
   "cell_type": "markdown",
   "metadata": {},
   "source": [
    "Os polos desejados pelo observador são: ! A DETERMINAR\n",
    "* $s_1 = - 3 - 2j$,\n",
    "* $s_2 = - 3 + 2j$ \n",
    "* $s_3 = - 4$."
   ]
  },
  {
   "cell_type": "code",
   "execution_count": null,
   "metadata": {},
   "outputs": [],
   "source": [
    "# Polos do observador\n",
    "poles_obs = [-3-2j, -3+2j, -4]\n",
    "\n",
    "# Alocação de polos do observador\n",
    "J = (place_poles(A22.T, A12.T, poles_obs).gain_matrix).T\n",
    "\n",
    "# Matrizes F, G, H e S\n",
    "\n",
    "F = A22 - J @ A12\n",
    "G_obs = A21  - J @ A11 + F @ J\n",
    "H = B2 - J @ B1\n",
    "S = M + N @ J"
   ]
  },
  {
   "cell_type": "markdown",
   "metadata": {},
   "source": [
    "Colocando o sistema na forma de espaço de estados:\n",
    "\n",
    "\\begin{align*}\n",
    "    \\frac{\\mathrm{d}}{\\mathrm{d}t}\n",
    "    \\begin{bmatrix}\n",
    "        x(t) \\\\ z(t)\n",
    "    \\end{bmatrix}\n",
    "    = \n",
    "    \\begin{bmatrix}\n",
    "        A & 0 \\\\ GC & F\n",
    "    \\end{bmatrix}\n",
    "    \\begin{bmatrix}\n",
    "        x(t) \\\\ z(t)\n",
    "    \\end{bmatrix}\n",
    "    +\n",
    "    \\begin{bmatrix}\n",
    "        B \\\\ H\n",
    "    \\end{bmatrix}\n",
    "    u(t)\n",
    "\\end{align*}"
   ]
  },
  {
   "cell_type": "code",
   "execution_count": null,
   "metadata": {},
   "outputs": [],
   "source": [
    "A_obs = np.block([[A_num, np.zeros((n, n-m))], [G_obs @ C_num, F]])\n",
    "B_obs = np.block([[B_num], [H]])\n",
    "E_obs = np.block([[E_num], [np.zeros((n-m, l))]])\n",
    "C_obs = np.block([[C_num, np.zeros((m, n-m))]])"
   ]
  },
  {
   "cell_type": "markdown",
   "metadata": {},
   "source": [
    "\\begin{align*}\n",
    "    \\Rightarrow\\frac{\\mathrm{d}}{\\mathrm{d}t}\n",
    "    \\begin{bmatrix}\n",
    "        x(t) \\\\ z(t)\n",
    "    \\end{bmatrix}\n",
    "    = \n",
    "   A_{obs}\n",
    "    \\begin{bmatrix}\n",
    "        x(t) \\\\ z(t)\n",
    "    \\end{bmatrix}\n",
    "    +\n",
    "    B_{obs}\n",
    "    u(t)\n",
    "    + E_{obs} w(t)\n",
    "\\end{align*}\n",
    "\n",
    "\\begin{align*}\n",
    "    y(t)=C_{obs} \\begin{bmatrix}\n",
    "        x(t) \\\\ z(t)\n",
    "    \\end{bmatrix}\n",
    "\\end{align*}"
   ]
  },
  {
   "cell_type": "code",
   "execution_count": null,
   "metadata": {},
   "outputs": [],
   "source": [
    "display(Latex(f'$A_{{obs}} = {sp.latex(sp.Matrix(A_obs))}$'))\n",
    "display(Latex(f'$B_{{obs}} = {sp.latex(sp.Matrix(B_obs))}$'))\n",
    "display(Latex(f'$E_{{obs}} = {sp.latex(sp.Matrix(E_obs))}$'))\n",
    "display(Latex(f'$C_{{obs}} = {sp.latex(sp.Matrix(C_obs))}$'))"
   ]
  },
  {
   "cell_type": "markdown",
   "metadata": {},
   "source": [
    "### Simulação de teste"
   ]
  },
  {
   "cell_type": "markdown",
   "metadata": {},
   "source": [
    "Adotando a lei de controle:\n",
    "\\begin{align*}\n",
    "    u(t) = - K \\hat x(t) = - K \\begin{bmatrix}\n",
    "        SC & N\n",
    "    \\end{bmatrix}\n",
    "    \\begin{bmatrix}\n",
    "        x(t) \\\\ z(t)\n",
    "    \\end{bmatrix}\n",
    "\\end{align*}\n",
    "pode-se estabelecer a dinâmica do sistema aumentado em malha-fechada:"
   ]
  },
  {
   "cell_type": "code",
   "execution_count": null,
   "metadata": {},
   "outputs": [],
   "source": [
    "# Sistema com observador\n",
    "A_obs_cont = A_obs - B_obs @ K @ np.block([S @ C_num, N])\n",
    "K_obs_cont = K @ np.block([S @ C_num, N])\n",
    " \n",
    "heli_obs_cont = ct.ss(A_obs_cont, E_obs, -K_obs_cont, sp.zeros(2,3)) # mapeia perturbação w(t) para entrada u(t)\n",
    "G_obs_cont = ct.ss2tf(heli_obs_cont)"
   ]
  },
  {
   "cell_type": "code",
   "execution_count": null,
   "metadata": {},
   "outputs": [],
   "source": [
    "# Dicionário de saídas\n",
    "saidas = [\n",
    "    (0, 'u₁', cp['red']),\n",
    "    (1, 'u₂', cp['blue']),\n",
    "]\n",
    "\n",
    "# Frequência comum\n",
    "omega = None  # será definida na 1ª chamada\n",
    "\n",
    "# Função para plotar para uma entrada\n",
    "def plot_bode_entrada(j, titulo_entrada):\n",
    "    global omega\n",
    "\n",
    "    fig_mag, ax_mag = plt.subplots(figsize=(10, 4))\n",
    "    fig_phase, ax_phase = plt.subplots(figsize=(10, 4))\n",
    "\n",
    "    for i, saida_label, color in saidas:\n",
    "        mag, phase, omega = ct.bode_plot(G_obs_cont[i, j], dB=True, Hz=True, omega=omega, plot=False)\n",
    "        freq = omega / (2 * np.pi)\n",
    "\n",
    "        ax_mag.semilogx(freq, 20 * np.log10(mag), label=f'{titulo_entrada} → {saida_label}', color=color)\n",
    "        ax_phase.semilogx(freq, phase * 180 / np.pi, label=f'{titulo_entrada} → {saida_label}', color=color)\n",
    "\n",
    "    # Magnitude\n",
    "    ax_mag.set_title(f'Magnitude (perturbação {titulo_entrada})')\n",
    "    ax_mag.set_xlabel('Frequência (Hz)')\n",
    "    ax_mag.set_ylabel('Magnitude (dB)')\n",
    "    ax_mag.grid(True, which='both')\n",
    "    ax_mag.legend()\n",
    "\n",
    "    # Fase\n",
    "    ax_phase.set_title(f'Fase (perturbação {titulo_entrada})')\n",
    "    ax_phase.set_xlabel('Frequência (Hz)')\n",
    "    ax_phase.set_ylabel('Fase (°)')\n",
    "    ax_phase.grid(True, which='both')\n",
    "    ax_phase.legend()\n",
    "\n",
    "    plt.tight_layout()\n",
    "    plt.show()\n",
    "\n",
    "# Plot para u1 (coluna j=0) e u2 (coluna j=1)\n",
    "plot_bode_entrada(0, 'w₁')\n",
    "plot_bode_entrada(1, 'w₂')\n",
    "plot_bode_entrada(2, 'w3')"
   ]
  },
  {
   "cell_type": "code",
   "execution_count": null,
   "metadata": {},
   "outputs": [],
   "source": [
    "# Condições iniciais coerentes com ângulos e velocidades pequenas\n",
    "x0_real = np.array([0.2*np.pi/180, np.pi/180, 7*np.pi/180, 0, 0, 0])  # rad, rad/s\n",
    "z0 = np.zeros(n - m)  # z(t=0) = 0\n",
    "\n",
    "# Estado inicial total [x(0); z(0)]\n",
    "x0z0 = np.concatenate([x0_real, z0])\n",
    "# Tempo e entrada\n",
    "t = np.linspace(0, 60, 1000)\n",
    "w = np.zeros((3, len(t)))  # Matriz com 3 entradas, 1000 amostras\n",
    "\n",
    "# Simulação\n",
    "t_obs_cont, y_obs_cont, x_obs_cont = ct.forced_response(heli_obs_cont, T=t, U=w, X0=x0z0, return_x=True)\n",
    "x_hat_t = np.array(S @ C_num @ x_obs_cont[0:n, :] + N @ x_obs_cont[n:, :]).astype(np.float64)  # estimativa dos estados reais\n",
    "\n",
    "plt.figure(figsize=(12, 6))\n",
    "\n",
    "for i in range(n): \n",
    "    cor = cp[['lred', 'lgreen', 'lblue', 'dred', 'dgreen', 'dblue'][i]]\n",
    "    plt.plot(t_obs_cont, x_obs_cont[i, :], label=f'$x_{{{i+1}}}$ real', color=cor)\n",
    "    plt.plot(t_obs_cont, x_hat_t[i, :].flatten(), '--', label=f'$\\\\hat{{x}}_{{{i+1}}}$ estimado', color=cor)\n",
    "\n",
    "plt.xlabel('Tempo [s]')\n",
    "plt.ylabel('Estados [rad / rad/s]')\n",
    "plt.title('Estimativas de Estados: Reais vs Estimados')\n",
    "plt.legend(ncol=2)\n",
    "plt.grid(True)\n",
    "plt.tight_layout()\n",
    "plt.show()"
   ]
  },
  {
   "cell_type": "code",
   "execution_count": null,
   "metadata": {},
   "outputs": [],
   "source": [
    "erro_estimacao = np.linalg.norm(x_hat_t - x_obs_cont[0:n, :], axis=0)\n",
    "\n",
    "import matplotlib.pyplot as plt\n",
    "plt.semilogy(t_obs_cont, erro_estimacao)\n",
    "plt.xlabel('Tempo')\n",
    "plt.ylabel('Erro de estimação (norma)')\n",
    "plt.grid()\n",
    "plt.show()"
   ]
  },
  {
   "cell_type": "markdown",
   "metadata": {},
   "source": [
    "## Cenários de Simulação"
   ]
  },
  {
   "cell_type": "code",
   "execution_count": null,
   "metadata": {},
   "outputs": [],
   "source": [
    "def cenario1():\n",
    "    x0 = np.zeros(n)\n",
    "\n",
    "    def w_func(t):\n",
    "        # Pulso de 0.015 N·m em M_Pz durante 0.1s (de t = 1.0 a t = 1.1)\n",
    "        if 1.0 <= t <= 1.1:\n",
    "            return np.array([0.0, 0.0, 0.015])\n",
    "        else:\n",
    "            return np.zeros(3)\n",
    "\n",
    "    def x_ref_func(t):\n",
    "        return np.zeros(6)\n",
    "\n",
    "    return {'x0': x0, 'w_func': w_func, 'x_ref_func': x_ref_func}\n"
   ]
  },
  {
   "cell_type": "code",
   "execution_count": null,
   "metadata": {},
   "outputs": [],
   "source": [
    "def cenario2():\n",
    "    x0 = np.zeros(n)\n",
    "\n",
    "    def w_func(t):\n",
    "        # Perturbação constante em M_Px\n",
    "        return np.array([0.002, 0.0, 0.0])\n",
    "\n",
    "    def x_ref_func(t):\n",
    "        # ε = 0.1 * sin(0.5t), α = 0.05 * cos(0.5t)\n",
    "        x_ref = np.zeros(6)\n",
    "        x_ref[0] = 0.1 * np.sin(0.5 * t)   # ε\n",
    "        x_ref[2] = 0.05 * np.cos(0.5 * t)  # α\n",
    "        return x_ref\n",
    "\n",
    "    return {'x0': x0, 'w_func': w_func, 'x_ref_func': x_ref_func}"
   ]
  },
  {
   "cell_type": "markdown",
   "metadata": {},
   "source": [
    "## Simulações do sistema com regulador e observador"
   ]
  },
  {
   "cell_type": "code",
   "execution_count": null,
   "metadata": {},
   "outputs": [],
   "source": [
    "def simular_cenario(cenario, T, title):\n",
    "    # Tempo de simulação\n",
    "    t = np.linspace(0, T, 1000)\n",
    "    # Parâmetros do cenário\n",
    "    x0 = cenario()['x0']\n",
    "    w = np.array([cenario()['w_func'](ti) for ti in t]).T  # shape (3, len(t))\n",
    "\n",
    "    # Condição inicial estendida [x0; z0]\n",
    "    z0 = np.zeros(n - m)\n",
    "    x0_ext = np.concatenate((x0, z0))\n",
    "\n",
    "    # Simulação\n",
    "    t_out, y_out, x_out = ct.forced_response(heli_obs_cont, T=t, U=w, X0=x0_ext, return_x=True)\n",
    "    x_hat_t = np.array(S @ C_num @ x_out[0:n, :] + N @ x_out[n:, :]).astype(np.float64)  # estimativa dos estados reais\n",
    "\n",
    "    plt.figure(figsize=(12, 6))\n",
    "    for i in range(n):\n",
    "        cor = cp[['lred', 'lgreen', 'lblue', 'dred', 'dgreen', 'dblue'][i]]\n",
    "        plt.plot(t_out, x_out[i, :], label=f'$x_{{{i+1}}}$ real', color = cor)\n",
    "        plt.plot(t_out, x_hat_t[i, :].flatten(), '--', label=f'$\\\\hat{{x}}_{{{i+1}}}$ estimado', color = cor)\n",
    "\n",
    "    plt.xlabel('Tempo [s]')\n",
    "    plt.ylabel('Estados [rad / rad/s]')\n",
    "    plt.title(title)\n",
    "    plt.legend(ncol=2)\n",
    "    plt.grid(True)\n",
    "    plt.tight_layout()\n",
    "    plt.show()"
   ]
  },
  {
   "cell_type": "code",
   "execution_count": null,
   "metadata": {},
   "outputs": [],
   "source": [
    "simular_cenario(cenario1, T=60, title ='Cenário 1')"
   ]
  },
  {
   "cell_type": "code",
   "execution_count": null,
   "metadata": {},
   "outputs": [],
   "source": [
    "simular_cenario(cenario2, T=60, title ='Cenário 2')"
   ]
  },
  {
   "cell_type": "markdown",
   "metadata": {},
   "source": [
    "## Síntese de pré-alimentação"
   ]
  },
  {
   "cell_type": "markdown",
   "metadata": {},
   "source": [
    "### Seguidor LQ"
   ]
  },
  {
   "cell_type": "code",
   "execution_count": null,
   "metadata": {},
   "outputs": [],
   "source": [
    "Q_LQ = np.diag([10, 10, 10, 1, 1, 1])\n",
    "\n",
    "R_LQ = np.diag([10**0, 10**0])\n",
    "\n",
    "# Síntese do regulador LQR\n",
    "K_LQ, P_LQ, poles_LQ = ct.lqr(np.array(A_num).astype(np.float64), np.array(B_num).astype(np.float64), Q_LQ, R_LQ)\n",
    "A_LQ = np.array(A_num).astype(np.float64) - np.array(B_num).astype(np.float64) @ K_LQ"
   ]
  },
  {
   "cell_type": "markdown",
   "metadata": {},
   "source": [
    "### Sistema com pré-alimentação"
   ]
  },
  {
   "cell_type": "code",
   "execution_count": null,
   "metadata": {},
   "outputs": [],
   "source": [
    "# Definindo referências de rastreamento\n",
    "ts = np.linspace(0, 40, 1001)\n",
    "# Referência: curva suave com variação em epsilon e alpha\n",
    "x_ref = np.zeros((6, len(ts)))\n",
    "x_ref[0, :] = 0.1 * np.sin(0.5 * ts)     # ε (guinada)\n",
    "x_ref[2, :] = 0.05 * np.cos(0.5 * ts)    # α (inclinação lateral)\n",
    "\n",
    "\n",
    "# Custo terminal backward\n",
    "η0 = P_LQ @ x_ref[:, -1].reshape(-1, 1)\n",
    "\n",
    "# Sistema auxiliar (tempo reverso)\n",
    "η_ss = ct.ss(-A_LQ, -Q_LQ, np.eye(n), np.zeros_like(Q_LQ))\n",
    "ts_rev, η = ct.forced_response(η_ss, T=ts[::-1], U=x_ref[:, ::-1], X0=η0)\n",
    "η = η[:, ::-1]  # reverter para frente no tempo\n",
    "\n",
    "# Controle final via convolução com matriz de controle\n",
    "B_aux = np.array(B_num).astype(float) @ np.linalg.inv(R_LQ) @ np.array(B_num).astype(float).T\n",
    "D_aux = np.zeros((K_LQ.shape[0], B_aux.shape[1]))\n",
    "sys_c_ss = ct.ss(A_LQ, B_aux, -K_LQ, D_aux)\n",
    "ts_d, u_lq, x_lq = ct.forced_response(sys_c_ss, T=ts, U=η, return_x=True)"
   ]
  },
  {
   "cell_type": "code",
   "execution_count": null,
   "metadata": {},
   "outputs": [],
   "source": [
    "fig, axs = plt.subplots(7, 1, figsize=(8, 12), sharex=True)\n",
    "\n",
    "# Estados de posição angular (rad para graus)\n",
    "axs[0].plot(ts, x_ref[0, :] * 180/np.pi, 'b--', label=r'Ref $\\varepsilon$')\n",
    "axs[0].plot(ts, x_lq[0, :] * 180/np.pi, 'b', label=r'$\\varepsilon$')\n",
    "axs[0].set_ylabel('ε (°)')\n",
    "axs[0].legend()\n",
    "\n",
    "axs[1].plot(ts, x_ref[1, :] * 180/np.pi, 'r--', label=r'Ref $\\alpha$')\n",
    "axs[1].plot(ts, x_lq[1, :] * 180/np.pi, 'r', label=r'$\\alpha$')\n",
    "axs[1].set_ylabel('α (°)')\n",
    "axs[1].legend()\n",
    "\n",
    "axs[2].plot(ts, x_ref[2, :] * 180/np.pi, 'g--', label=r'Ref $\\theta$')\n",
    "axs[2].plot(ts, x_lq[2, :] * 180/np.pi, 'g', label=r'$\\theta$')\n",
    "axs[2].set_ylabel('θ (°)')\n",
    "axs[2].legend()\n",
    "\n",
    "# Estados de velocidade angular (rad/s)\n",
    "axs[3].plot(ts, x_ref[3, :], 'b--', label=r'Ref $\\dot{\\varepsilon}$')\n",
    "axs[3].plot(ts, x_lq[3, :], 'b', label=r'$\\dot{\\varepsilon}$')\n",
    "axs[3].set_ylabel('ε̇ (rad/s)')\n",
    "axs[3].legend()\n",
    "\n",
    "axs[4].plot(ts, x_ref[4, :], 'r--', label=r'Ref $\\dot{\\alpha}$')\n",
    "axs[4].plot(ts, x_lq[4, :], 'r', label=r'$\\dot{\\alpha}$')\n",
    "axs[4].set_ylabel('α̇ (rad/s)')\n",
    "axs[4].legend()\n",
    "\n",
    "axs[5].plot(ts, x_ref[5, :], 'g--', label=r'Ref $\\dot{\\theta}$')\n",
    "axs[5].plot(ts, x_lq[5, :], 'g', label=r'$\\dot{\\theta}$')\n",
    "axs[5].set_ylabel('θ̇ (rad/s)')\n",
    "axs[5].legend()\n",
    "\n",
    "# Entradas de controle\n",
    "axs[6].plot(ts, u_lq[0, :], 'k', label=r'$V_{D}$')\n",
    "axs[6].plot(ts, u_lq[1, :], 'gray', label=r'$V_{E}$')\n",
    "axs[6].set_ylabel('V (V)')\n",
    "axs[6].set_xlabel('Tempo (s)')\n",
    "axs[6].legend()\n",
    "\n",
    "plt.tight_layout()\n",
    "plt.show()"
   ]
  },
  {
   "cell_type": "markdown",
   "metadata": {},
   "source": [
    "## Simulações em Malha Fechada"
   ]
  },
  {
   "cell_type": "code",
   "execution_count": null,
   "metadata": {},
   "outputs": [],
   "source": [
    "def simular_cenario_com_pre_alimentacao(cenario, T, title):\n",
    "    # Tempo de simulação: cria um vetor de tempo de 0 até T com 1001 pontos\n",
    "    t = np.linspace(0, T, 1001)\n",
    "    \n",
    "    # Obtém a condição inicial x0 do cenário\n",
    "    x0 = cenario()['x0']\n",
    "    \n",
    "    # Gera as perturbações w(t) ao longo do tempo, shape resultante (3, len(t))\n",
    "    w = np.array([cenario()['w_func'](ti) for ti in t]).T\n",
    "    \n",
    "    # Gera as referências x_ref(t) ao longo do tempo, shape (n, len(t))\n",
    "    x_ref = np.array([cenario()['x_ref_func'](ti) for ti in t]).T\n",
    "    \n",
    "    # Obtém o título do cenário para os plots\n",
    "    \n",
    "    # Condição inicial do estado estendido: vetor z0 com zeros (para o observador), tamanho n - m\n",
    "    z0 = np.zeros(n - m)\n",
    "    \n",
    "    # Combina o estado inicial x0 com o estado inicial do observador z0\n",
    "    x0_ext = np.concatenate((x0, z0))\n",
    "\n",
    "    # Inicializa o vetor de controle u(t) com zeros, 2 linhas (para dois atuadores), len(t) colunas\n",
    "    u = np.zeros((2, len(t)))\n",
    "\n",
    "    # Calcula o custo terminal η0 = P_LQ * x_ref no instante final\n",
    "    η0 = P_LQ @ x_ref[:, -1].reshape(-1, 1)\n",
    "\n",
    "    # Define o sistema auxiliar de tempo reverso com: -A_LQ, -Q, identidade como saída, zeros como entrada direta\n",
    "    η_ss = ct.ss(-A_LQ, -Q_LQ, np.eye(6), np.zeros((6, 6)))\n",
    "\n",
    "    # Resolve a resposta forçada do sistema auxiliar com tempo reverso\n",
    "    ts_rev, η = ct.forced_response(η_ss, T=ts[::-1], U=x_ref[:, ::-1], X0=η0)\n",
    "    \n",
    "    # Reverte η para frente no tempo\n",
    "    η = η[:, ::-1]\n",
    "\n",
    "    # Prealoca matriz para armazenar a simulação: estados reais (n) + estados do observador (n - m)\n",
    "    x_sim = np.zeros((n + n - m, len(t)))\n",
    "    \n",
    "    # Define a condição inicial estendida no primeiro instante\n",
    "    x_sim[:, 0] = x0_ext\n",
    "\n",
    "    # Passo de integração (assumindo espaçamento uniforme em t)\n",
    "    dt = t[1] - t[0]\n",
    "\n",
    "    # Loop de simulação ao longo do tempo\n",
    "    for k in range(len(t) - 1):\n",
    "        # Estado atual estendido\n",
    "        xk = x_sim[:, k]\n",
    "        \n",
    "        # Estado real do sistema\n",
    "        x_real = xk[0:n]\n",
    "        \n",
    "        # Estado do observador\n",
    "        z_obs = xk[n:]\n",
    "\n",
    "        # Estimativa do estado: combinação linear do estado real e do estado do observador\n",
    "        x_hat = np.array(S).astype(np.float64) @ np.array(C_num).astype(np.float64) @ x_real + np.array(N_ff).astype(np.float64) @ z_obs\n",
    "\n",
    "        # Controle por pré-alimentação: calcula v_k = R⁻¹ * B^T * η\n",
    "        v_k = np.linalg.inv(R) @ B_num.T @ η[:, k]\n",
    "        \n",
    "        # Controle total: feedback (K_LQ * x_hat) + pré-alimentação (v_k)\n",
    "        u[:, k] = -K_LQ @ x_hat + v_k\n",
    "\n",
    "        # Dinâmica do sistema: dx = A * x + B * u + E * w\n",
    "        dx = np.array(A_num).astype(np.float64) @ x_real + np.array(B_num).astype(np.float64) @ u[:, k] + np.array(E_num).astype(np.float64) @ w[:, k]\n",
    "        \n",
    "        # Dinâmica do observador: dz = (A22 - J*A12)*z + (A21 - J*A11)*x + (B2 - J*B1)*u\n",
    "        dz = (np.array(A22).astype(np.float64) - J @ np.array(A12).astype(np.float64)) @ z_obs + \\\n",
    "             (np.array(A21).astype(np.float64) - J @ np.array(A11).astype(np.float64)) @ x_real[0:3] + \\\n",
    "             (np.array(B2).astype(np.float64) - J @ np.array(B1).astype(np.float64)) @ u[:, k]\n",
    "\n",
    "        # Integração de x: estado real no próximo passo\n",
    "        x_sim[0:n, k+1] = x_real + dx * dt\n",
    "        \n",
    "        # Integração de z: estado do observador no próximo passo\n",
    "        x_sim[n:, k+1] = z_obs + dz * dt\n",
    "\n",
    "    # Plotagem dos resultados: estados reais, estimados e de referência\n",
    "    plt.figure(figsize=(12, 6))\n",
    "    \n",
    "    # Estimativa do estado ao longo de todo o tempo\n",
    "    x_hat_t = np.array(S).astype(np.float64) @ np.array(C_num).astype(np.float64) @ x_sim[0:n, :] + np.array(N).astype(np.float64) @ x_sim[n:, :]\n",
    "    \n",
    "    # Loop para plotar cada componente do estado\n",
    "    for i in range(n):\n",
    "        # Estado real\n",
    "        plt.plot(t, x_sim[i, :], label=f'$x_{{{i+1}}}$ real')\n",
    "        # Estado estimado\n",
    "        plt.plot(t, x_hat_t[i, :], '--', label=f'$\\\\hat{{x}}_{{{i+1}}}$ estimado')\n",
    "        # Estado de referência\n",
    "        plt.plot(t, x_ref[i, :], ':', label=f'$x_{{{i+1}}}^{{ref}}$')\n",
    "\n",
    "    # Configurações do gráfico de estados\n",
    "    plt.xlabel('Tempo [s]')\n",
    "    plt.ylabel('Estados [rad / rad/s]')\n",
    "    plt.title(title)\n",
    "    plt.legend(ncol=2)\n",
    "    plt.grid(True)\n",
    "    plt.tight_layout()\n",
    "    plt.show()\n",
    "\n",
    "    # Plot do controle aplicado ao sistema\n",
    "    plt.figure()\n",
    "    \n",
    "    # Controle do atuador direito\n",
    "    plt.plot(t, u[0, :], label=r'$V_D$')\n",
    "    # Controle do atuador esquerdo\n",
    "    plt.plot(t, u[1, :], label=r'$V_E$')\n",
    "    \n",
    "    # Configurações do gráfico de controle\n",
    "    plt.xlabel('Tempo [s]')\n",
    "    plt.ylabel('Controle (V)')\n",
    "    plt.legend()\n",
    "    plt.grid(True)\n",
    "    plt.title(f'Controle aplicado - {title}')\n",
    "    plt.show()"
   ]
  },
  {
   "cell_type": "code",
   "execution_count": null,
   "metadata": {},
   "outputs": [],
   "source": [
    "simular_cenario_com_pre_alimentacao(cenario1, T=10, title = 'Cenario 1')"
   ]
  },
  {
   "cell_type": "code",
   "execution_count": null,
   "metadata": {},
   "outputs": [],
   "source": [
    "simular_cenario_com_pre_alimentacao(cenario2, T=60, title = 'Cenario 2')"
   ]
  }
 ],
 "metadata": {
  "kernelspec": {
   "display_name": "Python 3",
   "language": "python",
   "name": "python3"
  },
  "language_info": {
   "codemirror_mode": {
    "name": "ipython",
    "version": 3
   },
   "file_extension": ".py",
   "mimetype": "text/x-python",
   "name": "python",
   "nbconvert_exporter": "python",
   "pygments_lexer": "ipython3",
   "version": "3.11.9"
  }
 },
 "nbformat": 4,
 "nbformat_minor": 2
}
